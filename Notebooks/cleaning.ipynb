{
 "cells": [
  {
   "cell_type": "code",
   "execution_count": 2,
   "metadata": {},
   "outputs": [],
   "source": [
    "import pandas as pd "
   ]
  },
  {
   "cell_type": "code",
   "execution_count": 3,
   "metadata": {},
   "outputs": [
    {
     "name": "stderr",
     "output_type": "stream",
     "text": [
      "/var/folders/v2/9k8drrwj5h39kpr935vvx6j80000gn/T/ipykernel_25590/3073573986.py:1: DtypeWarning: Columns (2) have mixed types. Specify dtype option on import or set low_memory=False.\n",
      "  df = pd.read_csv('NYC_Dog_Licensing_Dataset_.csv')\n"
     ]
    }
   ],
   "source": [
    "df = pd.read_csv('NYC_Dog_Licensing_Dataset_.csv')"
   ]
  },
  {
   "cell_type": "code",
   "execution_count": 4,
   "metadata": {},
   "outputs": [
    {
     "data": {
      "text/plain": [
       "AnimalName             object\n",
       "AnimalGender           object\n",
       "AnimalBirthYear        object\n",
       "BreedName              object\n",
       "ZipCode               float64\n",
       "LicenseIssuedDate      object\n",
       "LicenseExpiredDate     object\n",
       "Extract Year            int64\n",
       "dtype: object"
      ]
     },
     "execution_count": 4,
     "metadata": {},
     "output_type": "execute_result"
    }
   ],
   "source": [
    "df.dtypes"
   ]
  },
  {
   "cell_type": "code",
   "execution_count": 5,
   "metadata": {},
   "outputs": [
    {
     "name": "stdout",
     "output_type": "stream",
     "text": [
      "Total rows: 722864\n"
     ]
    }
   ],
   "source": [
    "print(\"Total rows:\", len(df))"
   ]
  },
  {
   "cell_type": "code",
   "execution_count": 6,
   "metadata": {},
   "outputs": [
    {
     "data": {
      "text/html": [
       "<div>\n",
       "<style scoped>\n",
       "    .dataframe tbody tr th:only-of-type {\n",
       "        vertical-align: middle;\n",
       "    }\n",
       "\n",
       "    .dataframe tbody tr th {\n",
       "        vertical-align: top;\n",
       "    }\n",
       "\n",
       "    .dataframe thead th {\n",
       "        text-align: right;\n",
       "    }\n",
       "</style>\n",
       "<table border=\"1\" class=\"dataframe\">\n",
       "  <thead>\n",
       "    <tr style=\"text-align: right;\">\n",
       "      <th></th>\n",
       "      <th>AnimalName</th>\n",
       "      <th>AnimalGender</th>\n",
       "      <th>AnimalBirthYear</th>\n",
       "      <th>BreedName</th>\n",
       "      <th>ZipCode</th>\n",
       "      <th>LicenseIssuedDate</th>\n",
       "      <th>LicenseExpiredDate</th>\n",
       "      <th>Extract Year</th>\n",
       "    </tr>\n",
       "  </thead>\n",
       "  <tbody>\n",
       "    <tr>\n",
       "      <th>0</th>\n",
       "      <td>PAIGE</td>\n",
       "      <td>F</td>\n",
       "      <td>2014</td>\n",
       "      <td>American Pit Bull Mix / Pit Bull Mix</td>\n",
       "      <td>10035.0</td>\n",
       "      <td>09/12/2014</td>\n",
       "      <td>09/12/2017</td>\n",
       "      <td>2016</td>\n",
       "    </tr>\n",
       "    <tr>\n",
       "      <th>1</th>\n",
       "      <td>YOGI</td>\n",
       "      <td>M</td>\n",
       "      <td>2010</td>\n",
       "      <td>Boxer</td>\n",
       "      <td>10465.0</td>\n",
       "      <td>09/12/2014</td>\n",
       "      <td>10/02/2017</td>\n",
       "      <td>2016</td>\n",
       "    </tr>\n",
       "    <tr>\n",
       "      <th>2</th>\n",
       "      <td>ALI</td>\n",
       "      <td>M</td>\n",
       "      <td>2014</td>\n",
       "      <td>Basenji</td>\n",
       "      <td>10013.0</td>\n",
       "      <td>09/12/2014</td>\n",
       "      <td>09/12/2019</td>\n",
       "      <td>2016</td>\n",
       "    </tr>\n",
       "    <tr>\n",
       "      <th>3</th>\n",
       "      <td>QUEEN</td>\n",
       "      <td>F</td>\n",
       "      <td>2013</td>\n",
       "      <td>Akita Crossbreed</td>\n",
       "      <td>10013.0</td>\n",
       "      <td>09/12/2014</td>\n",
       "      <td>09/12/2017</td>\n",
       "      <td>2016</td>\n",
       "    </tr>\n",
       "    <tr>\n",
       "      <th>4</th>\n",
       "      <td>LOLA</td>\n",
       "      <td>F</td>\n",
       "      <td>2009</td>\n",
       "      <td>Maltese</td>\n",
       "      <td>10028.0</td>\n",
       "      <td>09/12/2014</td>\n",
       "      <td>10/09/2017</td>\n",
       "      <td>2016</td>\n",
       "    </tr>\n",
       "    <tr>\n",
       "      <th>...</th>\n",
       "      <td>...</td>\n",
       "      <td>...</td>\n",
       "      <td>...</td>\n",
       "      <td>...</td>\n",
       "      <td>...</td>\n",
       "      <td>...</td>\n",
       "      <td>...</td>\n",
       "      <td>...</td>\n",
       "    </tr>\n",
       "    <tr>\n",
       "      <th>95</th>\n",
       "      <td>SPUDS</td>\n",
       "      <td>M</td>\n",
       "      <td>2010</td>\n",
       "      <td>Bulldog</td>\n",
       "      <td>10461.0</td>\n",
       "      <td>09/17/2014</td>\n",
       "      <td>09/17/2017</td>\n",
       "      <td>2016</td>\n",
       "    </tr>\n",
       "    <tr>\n",
       "      <th>96</th>\n",
       "      <td>BOO</td>\n",
       "      <td>F</td>\n",
       "      <td>2013</td>\n",
       "      <td>Labradoodle</td>\n",
       "      <td>11211.0</td>\n",
       "      <td>09/17/2014</td>\n",
       "      <td>09/17/2019</td>\n",
       "      <td>2016</td>\n",
       "    </tr>\n",
       "    <tr>\n",
       "      <th>97</th>\n",
       "      <td>SAMMY</td>\n",
       "      <td>M</td>\n",
       "      <td>2006</td>\n",
       "      <td>Shiba Inu</td>\n",
       "      <td>10011.0</td>\n",
       "      <td>09/17/2014</td>\n",
       "      <td>10/31/2016</td>\n",
       "      <td>2016</td>\n",
       "    </tr>\n",
       "    <tr>\n",
       "      <th>98</th>\n",
       "      <td>MAX</td>\n",
       "      <td>M</td>\n",
       "      <td>2005</td>\n",
       "      <td>Pug</td>\n",
       "      <td>10025.0</td>\n",
       "      <td>09/17/2014</td>\n",
       "      <td>10/30/2016</td>\n",
       "      <td>2016</td>\n",
       "    </tr>\n",
       "    <tr>\n",
       "      <th>99</th>\n",
       "      <td>WALTER</td>\n",
       "      <td>M</td>\n",
       "      <td>2010</td>\n",
       "      <td>American Pit Bull Terrier/Pit Bull</td>\n",
       "      <td>11375.0</td>\n",
       "      <td>09/17/2014</td>\n",
       "      <td>05/17/2019</td>\n",
       "      <td>2016</td>\n",
       "    </tr>\n",
       "  </tbody>\n",
       "</table>\n",
       "<p>100 rows × 8 columns</p>\n",
       "</div>"
      ],
      "text/plain": [
       "   AnimalName AnimalGender AnimalBirthYear  \\\n",
       "0       PAIGE            F            2014   \n",
       "1        YOGI            M            2010   \n",
       "2         ALI            M            2014   \n",
       "3       QUEEN            F            2013   \n",
       "4        LOLA            F            2009   \n",
       "..        ...          ...             ...   \n",
       "95      SPUDS            M            2010   \n",
       "96        BOO            F            2013   \n",
       "97      SAMMY            M            2006   \n",
       "98        MAX            M            2005   \n",
       "99     WALTER            M            2010   \n",
       "\n",
       "                               BreedName  ZipCode LicenseIssuedDate  \\\n",
       "0   American Pit Bull Mix / Pit Bull Mix  10035.0        09/12/2014   \n",
       "1                                  Boxer  10465.0        09/12/2014   \n",
       "2                                Basenji  10013.0        09/12/2014   \n",
       "3                       Akita Crossbreed  10013.0        09/12/2014   \n",
       "4                                Maltese  10028.0        09/12/2014   \n",
       "..                                   ...      ...               ...   \n",
       "95                               Bulldog  10461.0        09/17/2014   \n",
       "96                           Labradoodle  11211.0        09/17/2014   \n",
       "97                             Shiba Inu  10011.0        09/17/2014   \n",
       "98                                   Pug  10025.0        09/17/2014   \n",
       "99    American Pit Bull Terrier/Pit Bull  11375.0        09/17/2014   \n",
       "\n",
       "   LicenseExpiredDate  Extract Year  \n",
       "0          09/12/2017          2016  \n",
       "1          10/02/2017          2016  \n",
       "2          09/12/2019          2016  \n",
       "3          09/12/2017          2016  \n",
       "4          10/09/2017          2016  \n",
       "..                ...           ...  \n",
       "95         09/17/2017          2016  \n",
       "96         09/17/2019          2016  \n",
       "97         10/31/2016          2016  \n",
       "98         10/30/2016          2016  \n",
       "99         05/17/2019          2016  \n",
       "\n",
       "[100 rows x 8 columns]"
      ]
     },
     "execution_count": 6,
     "metadata": {},
     "output_type": "execute_result"
    }
   ],
   "source": [
    "df.head(100)"
   ]
  },
  {
   "cell_type": "code",
   "execution_count": 7,
   "metadata": {},
   "outputs": [
    {
     "data": {
      "text/plain": [
       "Index(['AnimalName', 'AnimalGender', 'AnimalBirthYear', 'BreedName', 'ZipCode',\n",
       "       'LicenseIssuedDate', 'LicenseExpiredDate', 'Extract Year'],\n",
       "      dtype='object')"
      ]
     },
     "execution_count": 7,
     "metadata": {},
     "output_type": "execute_result"
    }
   ],
   "source": [
    "df.keys()"
   ]
  },
  {
   "cell_type": "markdown",
   "metadata": {},
   "source": [
    "### 🛠️ Step 1: Fix the Data Types for Each Column\n",
    "\n",
    "Ensure all columns have the correct data types to support accurate analysis:\n",
    "- Convert dates (e.g., `LicenseIssuedDate`) to `datetime`\n",
    "- Convert numeric values (e.g., `AnimalBirthYear`) to `int`\n",
    "- Convert `ZipCode` to string to preserve leading zeros and allow proper grouping\n"
   ]
  },
  {
   "cell_type": "code",
   "execution_count": 8,
   "metadata": {},
   "outputs": [],
   "source": [
    "# Convert dates to datetime\n",
    "df['LicenseIssuedDate'] = pd.to_datetime(df['LicenseIssuedDate'], errors='coerce')\n",
    "df['LicenseExpiredDate'] = pd.to_datetime(df['LicenseExpiredDate'], errors='coerce')\n"
   ]
  },
  {
   "cell_type": "code",
   "execution_count": 9,
   "metadata": {},
   "outputs": [],
   "source": [
    "# Convert birth year to numeric\n",
    "df['AnimalBirthYear'] = pd.to_numeric(df['AnimalBirthYear'], errors='coerce')\n"
   ]
  },
  {
   "cell_type": "code",
   "execution_count": 10,
   "metadata": {},
   "outputs": [],
   "source": [
    "# Convert zip code to string so we can group by it without decimal places\n",
    "df['ZipCode'] = df['ZipCode'].astype('Int64').astype(str)"
   ]
  },
  {
   "cell_type": "code",
   "execution_count": 11,
   "metadata": {},
   "outputs": [],
   "source": [
    "df['BreedName'] = df['BreedName'].str.strip()\n",
    "df['AnimalGender'] = df['AnimalGender'].str.strip()\n"
   ]
  },
  {
   "cell_type": "code",
   "execution_count": 12,
   "metadata": {},
   "outputs": [
    {
     "data": {
      "text/plain": [
       "AnimalName                    object\n",
       "AnimalGender                  object\n",
       "AnimalBirthYear              float64\n",
       "BreedName                     object\n",
       "ZipCode                       object\n",
       "LicenseIssuedDate     datetime64[ns]\n",
       "LicenseExpiredDate    datetime64[ns]\n",
       "Extract Year                   int64\n",
       "dtype: object"
      ]
     },
     "execution_count": 12,
     "metadata": {},
     "output_type": "execute_result"
    }
   ],
   "source": [
    "df.dtypes"
   ]
  },
  {
   "cell_type": "markdown",
   "metadata": {},
   "source": [
    "### Step 2: Check for Full Row Duplicates\n",
    "\n",
    "Instead of checking for duplicates column by column (which might drop valid but similar entries like dogs with the same name), we checked for **exact duplicate rows**. \n",
    "\n",
    "For example, there might be two dogs named Luna, but they could have different birth years, breeds, or license dates, so we **only dropped rows that were completely identical across all columns**, ensuring no meaningful data was lost.\n"
   ]
  },
  {
   "cell_type": "code",
   "execution_count": 13,
   "metadata": {},
   "outputs": [
    {
     "data": {
      "text/plain": [
       "np.int64(40545)"
      ]
     },
     "execution_count": 13,
     "metadata": {},
     "output_type": "execute_result"
    }
   ],
   "source": [
    "df.duplicated().sum()"
   ]
  },
  {
   "cell_type": "code",
   "execution_count": 14,
   "metadata": {},
   "outputs": [],
   "source": [
    "df = df.drop_duplicates()"
   ]
  },
  {
   "cell_type": "code",
   "execution_count": 15,
   "metadata": {},
   "outputs": [
    {
     "data": {
      "text/plain": [
       "np.int64(0)"
      ]
     },
     "execution_count": 15,
     "metadata": {},
     "output_type": "execute_result"
    }
   ],
   "source": [
    "df.duplicated().sum()"
   ]
  },
  {
   "cell_type": "code",
   "execution_count": 16,
   "metadata": {},
   "outputs": [
    {
     "name": "stdout",
     "output_type": "stream",
     "text": [
      "Total rows: 682319\n"
     ]
    }
   ],
   "source": [
    "print(\"Total rows:\", len(df))\n"
   ]
  },
  {
   "cell_type": "markdown",
   "metadata": {},
   "source": [
    "### 🐾 Step 3: Create Age Groups for Dogs\n",
    "\n",
    "We used the `ApproxDogAge` column to categorize dogs into meaningful life stages. This helps support business questions about age distribution and trends.\n",
    "\n",
    "We defined age bins as follows:\n",
    "- `0–1` → Puppy  \n",
    "- `2–3` → Young  \n",
    "- `4–6` → Adult  \n",
    "- `7–10` → Senior  \n",
    "- `10+` → Elderly  \n",
    "\n",
    "We also ensured proper display by replacing any special en dashes (–) with regular hyphens (-) to avoid formatting issues in Excel.\n"
   ]
  },
  {
   "cell_type": "code",
   "execution_count": 17,
   "metadata": {},
   "outputs": [],
   "source": [
    "df['LicenseIssuedYear'] = df['LicenseIssuedDate'].dt.year\n",
    "df['ApproxDogAge'] = df['LicenseIssuedYear'] - df['AnimalBirthYear']"
   ]
  },
  {
   "cell_type": "code",
   "execution_count": 18,
   "metadata": {},
   "outputs": [],
   "source": [
    "df['DogAgeGroup'] = pd.cut(\n",
    "    df['ApproxDogAge'],\n",
    "    bins=[0, 1, 3, 6, 10, 20],\n",
    "    labels=['0-1 (Puppy)', '2-3 (Young)', '4-6 (Adult)', '7-10 (Senior)', '10+ (Elderly)'],\n",
    "    include_lowest=True\n",
    ")\n",
    "# Clean encoding for Excel display\n",
    "df['DogAgeGroup'] = df['DogAgeGroup'].str.replace('-', '-', regex=False)\n"
   ]
  },
  {
   "cell_type": "markdown",
   "metadata": {},
   "source": [
    "### Step 4: Identify and Handle Missing Values\n",
    "\n",
    "We checked for missing data across all columns to understand where information was incomplete.\n",
    "\n",
    "Key findings:\n",
    "- `AnimalName` had 1,709 missing entries — we decided to keep these since a name doesn't affect license validity.\n",
    "- `AnimalGender`, `AnimalBirthYear`, and `LicenseExpiredDate` had fewer missing values but were important for analysis.\n",
    "\n",
    "To maintain data quality:\n",
    "- We dropped rows where **any of these 3 key columns** were missing:  \n",
    "  `AnimalBirthYear`, `LicenseExpiredDate`, `AnimalGender`.\n"
   ]
  },
  {
   "cell_type": "code",
   "execution_count": 19,
   "metadata": {},
   "outputs": [
    {
     "data": {
      "text/plain": [
       "AnimalName            1709\n",
       "AnimalGender            21\n",
       "AnimalBirthYear         30\n",
       "BreedName                0\n",
       "ZipCode                  0\n",
       "LicenseIssuedDate        0\n",
       "LicenseExpiredDate      79\n",
       "Extract Year             0\n",
       "LicenseIssuedYear        0\n",
       "ApproxDogAge            30\n",
       "DogAgeGroup            423\n",
       "dtype: int64"
      ]
     },
     "execution_count": 19,
     "metadata": {},
     "output_type": "execute_result"
    }
   ],
   "source": [
    "df.isnull().sum()"
   ]
  },
  {
   "cell_type": "code",
   "execution_count": 20,
   "metadata": {},
   "outputs": [
    {
     "data": {
      "text/plain": [
       "130"
      ]
     },
     "execution_count": 20,
     "metadata": {},
     "output_type": "execute_result"
    }
   ],
   "source": [
    "df[df[['AnimalBirthYear', 'LicenseExpiredDate', 'AnimalGender']].isnull().any(axis=1)].shape[0]\n"
   ]
  },
  {
   "cell_type": "markdown",
   "metadata": {},
   "source": [
    "This step removed 130 rows, ensuring our data remains reliable for further analysis.\n"
   ]
  },
  {
   "cell_type": "code",
   "execution_count": 21,
   "metadata": {},
   "outputs": [],
   "source": [
    "# Keep only rows where all three of these values are filled in. Otherwise, lose 130 rows! \n",
    "df = df.dropna(subset=['AnimalBirthYear', 'LicenseExpiredDate', 'AnimalGender'])\n"
   ]
  },
  {
   "cell_type": "code",
   "execution_count": 22,
   "metadata": {},
   "outputs": [
    {
     "name": "stdout",
     "output_type": "stream",
     "text": [
      "Total rows: 682189\n"
     ]
    }
   ],
   "source": [
    "print(\"Total rows:\", len(df))\n"
   ]
  },
  {
   "cell_type": "markdown",
   "metadata": {},
   "source": [
    "### Step 5: Clean Invalid ZIP Codes\n",
    "\n",
    "To ensure accuracy in geographic analysis, we filtered the ZIP codes so that only valid entries remain.\n",
    "\n",
    "- A valid NYC ZIP code must be **5 digits** long.\n",
    "- Some rows had invalid or missing ZIP codes (like `0`, `100`, or empty), which we removed.\n"
   ]
  },
  {
   "cell_type": "code",
   "execution_count": 23,
   "metadata": {},
   "outputs": [],
   "source": [
    "df['ZipCode'] = df['ZipCode'].astype(str)\n",
    "df = df[df['ZipCode'].str.len() == 5] "
   ]
  },
  {
   "cell_type": "code",
   "execution_count": 24,
   "metadata": {},
   "outputs": [
    {
     "name": "stdout",
     "output_type": "stream",
     "text": [
      "Total rows: 681852\n"
     ]
    }
   ],
   "source": [
    "print(\"Total rows:\", len(df))\n"
   ]
  },
  {
   "cell_type": "markdown",
   "metadata": {},
   "source": [
    "### Step 6: Validate Extract Year\n",
    "\n",
    "We found rows where the `Extract Year` didn't make logical sense. For example, if a dog's license expired in 2021 but the extract year was 2022, that implies the license was still active — which can't be true.\n",
    "\n",
    "✅ Our fix:\n",
    "- We ensured the extract year falls between the license issue and license expiration years\n"
   ]
  },
  {
   "cell_type": "code",
   "execution_count": 25,
   "metadata": {},
   "outputs": [],
   "source": [
    "# Extract the year from issued and expired dates\n",
    "df['IssueYear'] = df['LicenseIssuedDate'].dt.year\n",
    "df['ExpireYear'] = df['LicenseExpiredDate'].dt.year\n",
    "\n",
    "# Keep only rows where extract year is between issue and expire years\n",
    "df = df[\n",
    "    (df['Extract Year'] >= df['IssueYear']) &\n",
    "    (df['Extract Year'] <= df['ExpireYear'])\n",
    "]\n"
   ]
  },
  {
   "cell_type": "code",
   "execution_count": 26,
   "metadata": {},
   "outputs": [],
   "source": [
    "#its redundant\n",
    "df = df.drop(columns=['LicenseIssuedYear'])"
   ]
  },
  {
   "cell_type": "markdown",
   "metadata": {},
   "source": [
    "We wanted to identify how many \"bad\" or placeholder dog names exist in the dataset. While we are not deleting them, since they aren’t directly related to our business question, we aimed to avoid unnecessary data loss and maintain as much usable information as possible.\n",
    "\n"
   ]
  },
  {
   "cell_type": "code",
   "execution_count": 27,
   "metadata": {},
   "outputs": [
    {
     "name": "stdout",
     "output_type": "stream",
     "text": [
      "Unusable dog names: 9220\n",
      "Usable dog names: 543765\n"
     ]
    }
   ],
   "source": [
    "# no name \n",
    "df['AnimalName'] = df['AnimalName'].str.upper()\n",
    "#a list of names that are bad\n",
    "bad_names = {\n",
    "        'NAME', 'NAME NOT PROVIDED', 'NAME?', 'NAMEME',\n",
    "    'NO NAME', 'NONAME', 'UNNAME', 'WHATSHERNAME', '.', '2'\n",
    "}\n",
    "\n",
    "df['AnimalName'] = df['AnimalName'].fillna('').str.strip()\n",
    "\n",
    "df['IsBadName'] = df['AnimalName'].isin(bad_names)\n",
    "\n",
    "# Count total unusable and usable names\n",
    "bad_name_count = df['IsBadName'].sum()\n",
    "usable_name_count = (~df['IsBadName']).sum()\n",
    "\n",
    "print(f\"Unusable dog names: {bad_name_count}\")\n",
    "print(f\"Usable dog names: {usable_name_count}\")\n",
    "\n"
   ]
  },
  {
   "cell_type": "code",
   "execution_count": 28,
   "metadata": {},
   "outputs": [],
   "source": [
    "import re\n",
    "\n",
    "# Replace all variations with the word \"Mix\"\n",
    "df['BreedName'] = (\n",
    "    df['BreedName']\n",
    "    .str.replace(r'\\b(Mix|Crossbreed|Cross|X)\\b', 'Mix', regex=True)  # standardize\n",
    "    .str.replace(r'\\s+', ' ', regex=True)  # remove double spaces\n",
    "    .str.strip()  # trim leading/trailing space\n",
    "    .str.title()  # format like \"Poodle Mix\"\n",
    ")\n"
   ]
  },
  {
   "cell_type": "markdown",
   "metadata": {},
   "source": [
    "airedale: airedale terrier "
   ]
  },
  {
   "cell_type": "code",
   "execution_count": 29,
   "metadata": {},
   "outputs": [
    {
     "name": "stdout",
     "output_type": "stream",
     "text": [
      "\n",
      "✅ Total unique breeds: 1137\n",
      "🟡 Matched breeds: 675\n",
      "❌ Unmatched breeds (still messy): 462\n",
      "{'Borzoi', 'Multi', 'Akita', 'Saluki', 'Coonhound, Black And Tan', 'Not Provided', 'Finnish Spitz', 'Lab Terr X', 'Bulldog', 'Lab Bord Collie', 'Maltese/Poodle', 'Brussel Griffon', 'Lhasa Apso /Shih Tzu', 'Rhodesian Ridgeback', 'Chow Chow/ Lab', 'Irish Red And White Setter', 'Pembroke Welsh Corgi', 'Portuguese Water Dog', 'Irish Jack Russ', 'W High Wt Terr', 'Maltese / Poo', 'French Poodle', 'Lhatese', 'Cavachon', 'Eurasier', 'Saint Bernard', 'Shetland Sheepdog', 'Harrier', 'Chi-Poo', 'Shih Tzu / Yorkie', 'Taiwan Mountain', 'Podenao Port', 'Fox/Sheltie', 'Xoloitzcuintli', 'Whippet', 'Chow Chow', 'Ori-Pei', 'Presa Canario', 'Dachshund, Wirehaired', 'Yorkshire Terri', 'Mastiff', 'Chi-Yorkie', 'Jack Rus Chihua', 'Chihua/Ter/Dsch', 'Norwegian Elkhound', 'Retriever/Chow', 'Great Dane', 'Dachshund, Long Haired', 'French Bulldog', 'Lhasa Apso Miix', 'Collie, Smooth Coat', 'Ridgeback/Rottweiler', 'Collie/Retriever', 'Biewer Terr', 'Doberman Pinscher', 'Malsish', 'Kromfohrlander', 'Chinook', 'Miniature Pinscher', 'Greyhound', 'Maltese/Pomeranian', 'Afghan Hound', 'Lab Weimarner', 'Sheltie Poo', 'Olde English Bulldogge', 'Boerboel', 'English Pointer', 'Lowchen', 'Dachshaun/Poodle', 'Fox Hound', 'Belgian Sheepdog', 'Slorky', 'Shiht-Zu Imperial', 'Lagotto Romagnolo', 'Malte-Poo', 'Jindo Dog, Korea', 'Eng Springer Spaniel', 'Aust.Cattle Dog', 'Schnauzer', 'Bergamasco', 'Redbone Coonhound', 'Malshipoo', 'Mudi', 'Hound/Lab', 'Terr / Shep', 'Huckapoo', 'Giant Schnoodle', 'Snoodle', 'Schnocker', 'Italian Spinone', 'English Pug', 'Westie-Poodle', 'Hamiltonstovare', 'Perro De Presa Canario', 'Lab Gold Ret Cross', 'Schnauzer, Miniature', 'Newfoundland', 'Hunting Dog/Rescue', 'Aus Shep/Heeler/Ret', 'Germ Shep/Siberian Husky', 'Schnauzer-Poodle', 'Cava-Poo', 'Leonberger', 'Breed ?', 'Portuguese Podengo Pequeno', 'Maltese-Shihtzu', 'Schnauzer, Standard', 'Otterhound', 'Havapeke', 'Baladi', 'Dach / Chih', 'Shorky', 'Belgian Malinois', 'Coocker-Poo', 'Maltese / Shih Tzu', 'Entlebucher Mountain Dog', 'Coonhound, Blue Tick', 'Maltese/Yorkie', 'Bluetick Coonhound', 'Spitz', 'Blue Heeler', 'Bernedoodle', 'Beagle/Hound', 'Scott Terr/Shih Tsu', 'Jap Chin / Maltese', 'Papitese', 'Coonhound, Redbone', 'Pinscher-Chih', 'Belgian Laekenois', 'Lhasa Apso/Terr', 'Barbet', 'Spanador', 'Stabyhoun', 'Eng Setter', 'Cattle Dog - Blue Healer', 'Ori Pei', 'Shih Tzu/Yorkie', 'Austrian Hunting', 'Bichon/Cairn', 'Poodle/Westie', 'West High White Terrier', 'Engish Pointer', 'Shihmalt', 'Cavazoo', '6152012', 'Royal Bah Potca', 'Havashire', 'Brauzer', 'Shepherd Pintzer', 'Pom-Chi', 'Havanese/Poodle', 'Shiba Inu', 'Cane Corso', 'Multi-Poo', 'Shi-Poo', 'Havachon', 'Pug/Chihu/Pomer', 'Puli', 'Cardigan Welsh Corgi', 'Pekingese/Poodle', 'Curly-Coated Retriever', 'British Lab', 'Tosa', 'Maltese/Cav Kin', 'Frend Poo', 'Labrador/ Shih Tzu', 'English Setter', 'Morkie', 'Min Pi N/Poodle', 'Cavapoo', 'Beagle', 'Shihchon', 'Schipperkee', 'Bearded Collie', 'Polanese', 'Blackmouthcur', 'Lhasa Apso/Shih', 'Poochon', 'Hovawart', 'Unknown', 'Anatolian Shepherd Dog', 'Cockalier', 'Germ Shep/Husky', 'Dachs/Shih Tzu', 'Basenji', 'Briard', 'Vizsla', 'Chintese', 'Bernese Mountain Dog', 'Icelandic Sheepdog', 'Shihtese', 'Chih Terr', 'Mastiff, Tibetan', 'Bost Terr/Lhasa', 'Azawakh', 'Westminster Ter', 'Boston Bulldog', 'Dachshund-Scottie', 'Teddy Bear', 'Keeshond', 'Yorkie/Shih Tzu', 'Chinese Shar-Pei', 'Yorkie/ Maltese', 'Canine', 'Havapoo', 'Cav Kc', 'Jindo', 'Maltese Shihtzu', 'Alaskan Klee Kai', 'Boxer/Pitt', 'Labrador/G.Shep', 'Shih Tzu/Maltese', 'Hound Mastiff', 'Whoodle', 'Spinone Italiano', 'Gold Retr/Chow', 'Cockerpoo', 'Brussels Griffon', 'Cirneco Dell', 'Belgian Griffon', 'Cigi', 'Thai Ridgeback', 'Samoyed', 'Lhasa Apso', 'Beagle/English Bull Dog', 'English Shepher', 'Mi-Ki', 'Golden Retr/Cattle Dog', 'Hava Poo', 'Shih Tzu/Papillion', 'Polish Lowland Sheepdog', 'Welsh Corgi, Cardigan', 'Treeing Tennessee Brindle', 'Cocker Poo', 'Red Poodle', 'Peek-A-Poo', 'Mountain Feist', 'Rottweiler', 'Mini Aust.Shepherd', 'Beagle / Dachshund', 'Irish Wolfhound', 'Mini Bulldog', 'Shipa', 'Maltese/Havanese', 'Pumi', 'Bracco Italiano', 'Blue Heeler / Schnauser', 'Am Staffordshire Terr', 'Shiffon', 'Japanese Spitz', 'Hound Beagle', 'Askal', 'German Pinscher', 'Malkie', 'Cokaspinial Poodle', 'Pomeranian-Maltese', 'Great Pyrenees', 'Schnauzer, Giant', 'Brittany', 'Malt Poodle', 'Olde English Bull Dog', 'Weimaraner', 'Australian Labradoodle', 'Affenpinscher', 'Shihtzu-A-Poo', 'Giant Schnauzer', 'Smooth Hair Fox Terrier', 'Shep/Doxie', 'Kuvasz', 'Dachshun/Chihua', 'Cocoer-Poo', 'Westi-Poo', 'Boxer', 'Bloodhound', 'Plott', 'Boggle', 'Miniature Dachshund', 'Teddy-Bear', 'Shinese', 'Shicon', 'Collie, Rough Coat', 'Labrado/Great D', 'Sheltie', 'Lhasa Apso/Poodle', 'Collie / Lab', 'Mahshih', 'English Springer Spaniel', 'Labrador/Cattle Dog', 'Sharpei / Puggle', 'Dogo Argentino', 'Pug-Bijon', 'Potcake', 'Beagle-Pei', 'Miniature Schnauzer', 'Cockachon', 'Dogue De Bordeaux', 'Scottish Deerhound', 'Dachshund / Doxie', 'Pomsky', 'Lhasa/Malt', 'Mastiff/Shepherd', 'Poodle/Pompoo', 'Kishu Ken', 'Boston Terr/Min Boxer', 'Maltese/Poodle,Toy', 'Papillon', 'Hound-Cattle Dog', 'Doberman', 'Standard Poodle', 'Sharpei-Beagle', 'Welsh Corgi, Pembroke', 'Malti-Shi', 'Pharoh Hound', 'Peek -A-Poo', 'Yorky', 'Wirehaired Pointing Griffon', 'Karelian Bear Dog', 'Black And Tan Coonhound', 'Maltese/ Yorkie', 'Chesapeake Bay Retriever', 'Schanuzer/Yorkie', 'Morky', 'Spinone', 'Neapolitan Mastiff', 'Schnauzer/Poodle', 'Yorki-Poo', 'Cavashon', 'English Foxhound', 'Maltese/Shih Tzu', 'Jackabee /Russ', 'Chih/Poo', 'Bouvier Des Flandres', 'Yorkiepoo', 'Other', 'French Bulldog/Pug', 'French Beagle', 'Cur', 'Hungarian Puli', 'Swedish Vallhund', 'Puggle', 'Yorkshi/Maltese', 'Kooikerhondje', 'Shih/Maltese', 'Havanese', 'Canaan', 'Pompoo', 'Maltes/Shih Tzu', 'Taiwan Mountain Dog', 'Schipperke', 'Walker Hound', 'Lhasa Apso/Pood', 'Norwegian Buhund', 'Red Tick Coonhound', 'Wirehaired Vizsla', 'Unknown (Stray)', 'Poodle, Standard', 'Rat Terr', 'Pom / Yorkie', 'English Cocker Spaniel', 'Cocker-Poo', 'Mastiff, Neapolitan', 'Beauceron', 'Coonhound, Treeing Walker', 'Collie, Bearded', 'Petersburg Orchid', 'Mini Doberman', 'Westiepoo', 'Greek Shephard', 'Corgy / Labrador', 'Australian Kelpie', 'Shihpoo', 'Estrela Mountain Dog', 'Maltese-Pomeranian', 'Pug', 'Lhasa-Bijon', 'Treeing Walker Coonhound', 'Maltese/Shitzu', 'Pomtese', 'Ibizan Hound', 'Pek-A-Tese', 'Blue Nose Pitbull', 'Bugg', 'Peruvian Inca Orchid', 'Formosan Mountain', 'Portuguese Sheepdog', 'Yorkie/Maltese', 'Gordon Setter', 'Finnish Lapphund', 'Slovensky Cuvac', 'Jack Russ / Chih', 'Yorkshire/Maltese', 'Black Lab Multi', 'Flat-Coated Retriever', 'Lancashire Heeler', 'Yorkieshire Maltese', 'Labrador/Collie', 'Peke-A-Poo', 'Maltese', 'Mini Golden Doodle', 'Nova Scotia Toller', 'Old English Sheepdog', 'Breed Information Not Provided.', 'Collie / Retreiver', 'Fila Brasileiro', 'Yellow Lab', 'Softc Wheat Ter', 'Irish Setter', 'Aussie Cattle Dog Heeler', 'Pyrenean Mastiff', 'Chi/Doxen', 'Pekingese', 'Tibetan Mastiff', 'Pug/Beagle', 'Peke-A-Tese', 'Standard Schnauzer', 'Yorkie Rat Terr', 'Pomeranian', 'Sapsal, Korea', 'Schnoodle', 'Am Eskimo / Maltese', 'Bullmastiff', 'Poodle, Miniature', 'Chiweenie', 'Part Golden Retriever', 'Bolognese', 'Pyrenean Shepherd', 'Shar-Pei, Chinese', 'Doxie', 'Mastiff, Old English', 'Yorkishireterrier/ Maltese Morkie', 'Japanese Chin/Spaniel', 'Peke A Ppp', 'Belgian Tervuren', 'Mutt', 'Pharaoh Hound', 'Russian Wolfhound', 'Podengo Pequeno', 'Yorkie-Shih Tzu', 'Polish Hound', 'No Idea', 'Alaskan Malamute', 'Cross Breed', 'Dalmatian', 'Zuchon', 'Lab/Doberman/Sheepdog', 'Basenji/Whippet', 'Japanese Chin', 'Pomapoo', 'Italian Greyhound', 'Yorkie-Maltese', 'Havadoodle', 'Bichon F/T Pdle', 'Peagle', 'Jagdterrier', 'St. Bernard', 'Welsh Springer Spaniel', 'Lab Retriver + Pitt Bull', 'Dachshund/Beagle', 'Pitbull-Bulldog', 'Peak-A-Poo', 'English Mastiff', 'Kai Ken'}\n"
     ]
    }
   ],
   "source": [
    "from thefuzz import process\n",
    "\n",
    "# unique_breeds = df['BreedName']\n",
    "unique_breeds = df['BreedName'].dropna().astype(str).unique()\n",
    "# choose a reference list of \"cleaned\" breeds\n",
    "reference_breeds = [\n",
    "    'Airedale Terrier', 'Airedale Terrier Mix',\n",
    "    'American Eskimo Mix', 'American Ekimo',\n",
    "    'American Pit Bull Terrier Mix',\n",
    "    'American Staffordshie Terrier','American Staffordshie Terrier Mix',\n",
    "    'Australian cattle dog', 'Basset Hound', 'Australian Shepherd', 'Berger Picard', \n",
    "    'Bichon Poodle', 'Bichon Shih Tzu', 'Bichon Frise', 'Yorkie Bichon', 'Catahoula leopard',\n",
    "    'Cavalier King Charles Spaniel', 'Chihuahua', 'Chihuahua Mix', 'long-haired Chihuahua', 'Border Collie',\n",
    "    'Coton de Tulear','Cockapoo', 'Toy Australian Shepherd', 'Dachshund smooth coat', 'Golden Retrievers', 'Goldendoodle', 'Miniature Goldendoodles',\n",
    "    'chinese crested', 'German Shepherd', 'Corgi German Shepherd', 'Husky German Shepherd', 'jack russell chihuahua', 'labrador retriever', 'Yorkie Poodle',\n",
    "    'Spanish Water Dog', 'small munsterlander', 'Shorkie', 'Shitzu Poodle', 'Pitbull pointer', 'Teacup Poodle', 'Pekapoo', 'jack russell',\n",
    "    'Lhasapoo', 'Maltipoo', 'mini pinscher', 'Mixed', 'mini labradoodle', 'Westiepoo' \n",
    "]\n",
    "breed_map = {}\n",
    "for breed in unique_breeds:\n",
    "    match, score = process.extractOne(breed, reference_breeds)\n",
    "    if score >= 85:  # Match threshold\n",
    "        breed_map[breed] = match\n",
    "\n",
    "# Step 5: Apply cleaned breed names — fallback to original if no match\n",
    "df['CleanedBreedName'] = df['BreedName'].apply(lambda x: breed_map.get(x, x))\n",
    "\n",
    "# Step 6 (optional): Check unmatched entries\n",
    "unmatched_breeds = set(unique_breeds) - set(breed_map.keys())\n",
    "print(f\"\\n✅ Total unique breeds: {len(unique_breeds)}\")\n",
    "print(f\"🟡 Matched breeds: {len(breed_map)}\")\n",
    "print(f\"❌ Unmatched breeds (still messy): {len(unmatched_breeds)}\")\n",
    "print(unmatched_breeds)\n"
   ]
  },
  {
   "cell_type": "code",
   "execution_count": 30,
   "metadata": {},
   "outputs": [],
   "source": [
    "df.to_csv('Cleaned_NYC_Dog_License.csv', index=False, encoding='utf-8-sig')\n"
   ]
  }
 ],
 "metadata": {
  "kernelspec": {
   "display_name": "base",
   "language": "python",
   "name": "python3"
  },
  "language_info": {
   "codemirror_mode": {
    "name": "ipython",
    "version": 3
   },
   "file_extension": ".py",
   "mimetype": "text/x-python",
   "name": "python",
   "nbconvert_exporter": "python",
   "pygments_lexer": "ipython3",
   "version": "3.12.9"
  },
  "orig_nbformat": 4
 },
 "nbformat": 4,
 "nbformat_minor": 2
}

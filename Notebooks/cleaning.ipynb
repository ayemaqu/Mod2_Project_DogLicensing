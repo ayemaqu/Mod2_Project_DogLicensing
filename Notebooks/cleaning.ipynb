{
 "cells": [
  {
   "cell_type": "code",
   "execution_count": 46,
   "metadata": {},
   "outputs": [],
   "source": [
    "import pandas as pd "
   ]
  },
  {
   "cell_type": "code",
   "execution_count": 47,
   "metadata": {},
   "outputs": [
    {
     "name": "stderr",
     "output_type": "stream",
     "text": [
      "/var/folders/v2/9k8drrwj5h39kpr935vvx6j80000gn/T/ipykernel_14604/3073573986.py:1: DtypeWarning: Columns (2) have mixed types. Specify dtype option on import or set low_memory=False.\n",
      "  df = pd.read_csv('NYC_Dog_Licensing_Dataset_.csv')\n"
     ]
    }
   ],
   "source": [
    "df = pd.read_csv('NYC_Dog_Licensing_Dataset_.csv')"
   ]
  },
  {
   "cell_type": "code",
   "execution_count": 48,
   "metadata": {},
   "outputs": [
    {
     "data": {
      "text/plain": [
       "AnimalName             object\n",
       "AnimalGender           object\n",
       "AnimalBirthYear        object\n",
       "BreedName              object\n",
       "ZipCode               float64\n",
       "LicenseIssuedDate      object\n",
       "LicenseExpiredDate     object\n",
       "Extract Year            int64\n",
       "dtype: object"
      ]
     },
     "execution_count": 48,
     "metadata": {},
     "output_type": "execute_result"
    }
   ],
   "source": [
    "df.dtypes"
   ]
  },
  {
   "cell_type": "code",
   "execution_count": 49,
   "metadata": {},
   "outputs": [
    {
     "data": {
      "text/html": [
       "<div>\n",
       "<style scoped>\n",
       "    .dataframe tbody tr th:only-of-type {\n",
       "        vertical-align: middle;\n",
       "    }\n",
       "\n",
       "    .dataframe tbody tr th {\n",
       "        vertical-align: top;\n",
       "    }\n",
       "\n",
       "    .dataframe thead th {\n",
       "        text-align: right;\n",
       "    }\n",
       "</style>\n",
       "<table border=\"1\" class=\"dataframe\">\n",
       "  <thead>\n",
       "    <tr style=\"text-align: right;\">\n",
       "      <th></th>\n",
       "      <th>AnimalName</th>\n",
       "      <th>AnimalGender</th>\n",
       "      <th>AnimalBirthYear</th>\n",
       "      <th>BreedName</th>\n",
       "      <th>ZipCode</th>\n",
       "      <th>LicenseIssuedDate</th>\n",
       "      <th>LicenseExpiredDate</th>\n",
       "      <th>Extract Year</th>\n",
       "    </tr>\n",
       "  </thead>\n",
       "  <tbody>\n",
       "    <tr>\n",
       "      <th>0</th>\n",
       "      <td>PAIGE</td>\n",
       "      <td>F</td>\n",
       "      <td>2014</td>\n",
       "      <td>American Pit Bull Mix / Pit Bull Mix</td>\n",
       "      <td>10035.0</td>\n",
       "      <td>09/12/2014</td>\n",
       "      <td>09/12/2017</td>\n",
       "      <td>2016</td>\n",
       "    </tr>\n",
       "    <tr>\n",
       "      <th>1</th>\n",
       "      <td>YOGI</td>\n",
       "      <td>M</td>\n",
       "      <td>2010</td>\n",
       "      <td>Boxer</td>\n",
       "      <td>10465.0</td>\n",
       "      <td>09/12/2014</td>\n",
       "      <td>10/02/2017</td>\n",
       "      <td>2016</td>\n",
       "    </tr>\n",
       "    <tr>\n",
       "      <th>2</th>\n",
       "      <td>ALI</td>\n",
       "      <td>M</td>\n",
       "      <td>2014</td>\n",
       "      <td>Basenji</td>\n",
       "      <td>10013.0</td>\n",
       "      <td>09/12/2014</td>\n",
       "      <td>09/12/2019</td>\n",
       "      <td>2016</td>\n",
       "    </tr>\n",
       "    <tr>\n",
       "      <th>3</th>\n",
       "      <td>QUEEN</td>\n",
       "      <td>F</td>\n",
       "      <td>2013</td>\n",
       "      <td>Akita Crossbreed</td>\n",
       "      <td>10013.0</td>\n",
       "      <td>09/12/2014</td>\n",
       "      <td>09/12/2017</td>\n",
       "      <td>2016</td>\n",
       "    </tr>\n",
       "    <tr>\n",
       "      <th>4</th>\n",
       "      <td>LOLA</td>\n",
       "      <td>F</td>\n",
       "      <td>2009</td>\n",
       "      <td>Maltese</td>\n",
       "      <td>10028.0</td>\n",
       "      <td>09/12/2014</td>\n",
       "      <td>10/09/2017</td>\n",
       "      <td>2016</td>\n",
       "    </tr>\n",
       "    <tr>\n",
       "      <th>...</th>\n",
       "      <td>...</td>\n",
       "      <td>...</td>\n",
       "      <td>...</td>\n",
       "      <td>...</td>\n",
       "      <td>...</td>\n",
       "      <td>...</td>\n",
       "      <td>...</td>\n",
       "      <td>...</td>\n",
       "    </tr>\n",
       "    <tr>\n",
       "      <th>95</th>\n",
       "      <td>SPUDS</td>\n",
       "      <td>M</td>\n",
       "      <td>2010</td>\n",
       "      <td>Bulldog</td>\n",
       "      <td>10461.0</td>\n",
       "      <td>09/17/2014</td>\n",
       "      <td>09/17/2017</td>\n",
       "      <td>2016</td>\n",
       "    </tr>\n",
       "    <tr>\n",
       "      <th>96</th>\n",
       "      <td>BOO</td>\n",
       "      <td>F</td>\n",
       "      <td>2013</td>\n",
       "      <td>Labradoodle</td>\n",
       "      <td>11211.0</td>\n",
       "      <td>09/17/2014</td>\n",
       "      <td>09/17/2019</td>\n",
       "      <td>2016</td>\n",
       "    </tr>\n",
       "    <tr>\n",
       "      <th>97</th>\n",
       "      <td>SAMMY</td>\n",
       "      <td>M</td>\n",
       "      <td>2006</td>\n",
       "      <td>Shiba Inu</td>\n",
       "      <td>10011.0</td>\n",
       "      <td>09/17/2014</td>\n",
       "      <td>10/31/2016</td>\n",
       "      <td>2016</td>\n",
       "    </tr>\n",
       "    <tr>\n",
       "      <th>98</th>\n",
       "      <td>MAX</td>\n",
       "      <td>M</td>\n",
       "      <td>2005</td>\n",
       "      <td>Pug</td>\n",
       "      <td>10025.0</td>\n",
       "      <td>09/17/2014</td>\n",
       "      <td>10/30/2016</td>\n",
       "      <td>2016</td>\n",
       "    </tr>\n",
       "    <tr>\n",
       "      <th>99</th>\n",
       "      <td>WALTER</td>\n",
       "      <td>M</td>\n",
       "      <td>2010</td>\n",
       "      <td>American Pit Bull Terrier/Pit Bull</td>\n",
       "      <td>11375.0</td>\n",
       "      <td>09/17/2014</td>\n",
       "      <td>05/17/2019</td>\n",
       "      <td>2016</td>\n",
       "    </tr>\n",
       "  </tbody>\n",
       "</table>\n",
       "<p>100 rows × 8 columns</p>\n",
       "</div>"
      ],
      "text/plain": [
       "   AnimalName AnimalGender AnimalBirthYear  \\\n",
       "0       PAIGE            F            2014   \n",
       "1        YOGI            M            2010   \n",
       "2         ALI            M            2014   \n",
       "3       QUEEN            F            2013   \n",
       "4        LOLA            F            2009   \n",
       "..        ...          ...             ...   \n",
       "95      SPUDS            M            2010   \n",
       "96        BOO            F            2013   \n",
       "97      SAMMY            M            2006   \n",
       "98        MAX            M            2005   \n",
       "99     WALTER            M            2010   \n",
       "\n",
       "                               BreedName  ZipCode LicenseIssuedDate  \\\n",
       "0   American Pit Bull Mix / Pit Bull Mix  10035.0        09/12/2014   \n",
       "1                                  Boxer  10465.0        09/12/2014   \n",
       "2                                Basenji  10013.0        09/12/2014   \n",
       "3                       Akita Crossbreed  10013.0        09/12/2014   \n",
       "4                                Maltese  10028.0        09/12/2014   \n",
       "..                                   ...      ...               ...   \n",
       "95                               Bulldog  10461.0        09/17/2014   \n",
       "96                           Labradoodle  11211.0        09/17/2014   \n",
       "97                             Shiba Inu  10011.0        09/17/2014   \n",
       "98                                   Pug  10025.0        09/17/2014   \n",
       "99    American Pit Bull Terrier/Pit Bull  11375.0        09/17/2014   \n",
       "\n",
       "   LicenseExpiredDate  Extract Year  \n",
       "0          09/12/2017          2016  \n",
       "1          10/02/2017          2016  \n",
       "2          09/12/2019          2016  \n",
       "3          09/12/2017          2016  \n",
       "4          10/09/2017          2016  \n",
       "..                ...           ...  \n",
       "95         09/17/2017          2016  \n",
       "96         09/17/2019          2016  \n",
       "97         10/31/2016          2016  \n",
       "98         10/30/2016          2016  \n",
       "99         05/17/2019          2016  \n",
       "\n",
       "[100 rows x 8 columns]"
      ]
     },
     "execution_count": 49,
     "metadata": {},
     "output_type": "execute_result"
    }
   ],
   "source": [
    "df.head(100)"
   ]
  },
  {
   "cell_type": "code",
   "execution_count": 50,
   "metadata": {},
   "outputs": [
    {
     "data": {
      "text/plain": [
       "Index(['AnimalName', 'AnimalGender', 'AnimalBirthYear', 'BreedName', 'ZipCode',\n",
       "       'LicenseIssuedDate', 'LicenseExpiredDate', 'Extract Year'],\n",
       "      dtype='object')"
      ]
     },
     "execution_count": 50,
     "metadata": {},
     "output_type": "execute_result"
    }
   ],
   "source": [
    "df.keys()"
   ]
  },
  {
   "cell_type": "markdown",
   "metadata": {},
   "source": [
    "### 🛠️ Step 1: Fix the Data Types for Each Column\n",
    "\n",
    "Ensure all columns have the correct data types to support accurate analysis:\n",
    "- Convert dates (e.g., `LicenseIssuedDate`) to `datetime`\n",
    "- Convert numeric values (e.g., `AnimalBirthYear`) to `int`\n",
    "- Convert `ZipCode` to string to preserve leading zeros and allow proper grouping\n"
   ]
  },
  {
   "cell_type": "code",
   "execution_count": 51,
   "metadata": {},
   "outputs": [],
   "source": [
    "# Convert dates to datetime\n",
    "df['LicenseIssuedDate'] = pd.to_datetime(df['LicenseIssuedDate'], errors='coerce')\n",
    "df['LicenseExpiredDate'] = pd.to_datetime(df['LicenseExpiredDate'], errors='coerce')\n"
   ]
  },
  {
   "cell_type": "code",
   "execution_count": 52,
   "metadata": {},
   "outputs": [],
   "source": [
    "# Convert birth year to numeric\n",
    "df['AnimalBirthYear'] = pd.to_numeric(df['AnimalBirthYear'], errors='coerce')\n"
   ]
  },
  {
   "cell_type": "code",
   "execution_count": 53,
   "metadata": {},
   "outputs": [],
   "source": [
    "# Convert zip code to string so we can group by it without decimal places\n",
    "df['ZipCode'] = df['ZipCode'].astype('Int64').astype(str)"
   ]
  },
  {
   "cell_type": "code",
   "execution_count": 54,
   "metadata": {},
   "outputs": [],
   "source": [
    "df['BreedName'] = df['BreedName'].str.strip()\n",
    "df['AnimalGender'] = df['AnimalGender'].str.strip()\n"
   ]
  },
  {
   "cell_type": "code",
   "execution_count": 55,
   "metadata": {},
   "outputs": [
    {
     "data": {
      "text/plain": [
       "AnimalName                    object\n",
       "AnimalGender                  object\n",
       "AnimalBirthYear              float64\n",
       "BreedName                     object\n",
       "ZipCode                       object\n",
       "LicenseIssuedDate     datetime64[ns]\n",
       "LicenseExpiredDate    datetime64[ns]\n",
       "Extract Year                   int64\n",
       "dtype: object"
      ]
     },
     "execution_count": 55,
     "metadata": {},
     "output_type": "execute_result"
    }
   ],
   "source": [
    "df.dtypes"
   ]
  },
  {
   "cell_type": "markdown",
   "metadata": {},
   "source": [
    "### Step 2: Check for Full Row Duplicates\n",
    "\n",
    "Instead of checking for duplicates column by column (which might drop valid but similar entries like dogs with the same name), we checked for **exact duplicate rows**. \n",
    "\n",
    "For example, there might be two dogs named Luna, but they could have different birth years, breeds, or license dates, so we **only dropped rows that were completely identical across all columns**, ensuring no meaningful data was lost.\n"
   ]
  },
  {
   "cell_type": "code",
   "execution_count": 56,
   "metadata": {},
   "outputs": [
    {
     "data": {
      "text/plain": [
       "40545"
      ]
     },
     "execution_count": 56,
     "metadata": {},
     "output_type": "execute_result"
    }
   ],
   "source": [
    "df.duplicated().sum()"
   ]
  },
  {
   "cell_type": "code",
   "execution_count": 57,
   "metadata": {},
   "outputs": [],
   "source": [
    "df = df.drop_duplicates()"
   ]
  },
  {
   "cell_type": "code",
   "execution_count": 58,
   "metadata": {},
   "outputs": [
    {
     "data": {
      "text/plain": [
       "0"
      ]
     },
     "execution_count": 58,
     "metadata": {},
     "output_type": "execute_result"
    }
   ],
   "source": [
    "df.duplicated().sum()"
   ]
  },
  {
   "cell_type": "markdown",
   "metadata": {},
   "source": [
    "### 🐾 Step 3: Create Age Groups for Dogs\n",
    "\n",
    "We used the `ApproxDogAge` column to categorize dogs into meaningful life stages. This helps support business questions about age distribution and trends.\n",
    "\n",
    "We defined age bins as follows:\n",
    "- `0–1` → Puppy  \n",
    "- `2–3` → Young  \n",
    "- `4–6` → Adult  \n",
    "- `7–10` → Senior  \n",
    "- `10+` → Elderly  \n",
    "\n",
    "We also ensured proper display by replacing any special en dashes (–) with regular hyphens (-) to avoid formatting issues in Excel.\n"
   ]
  },
  {
   "cell_type": "code",
   "execution_count": 59,
   "metadata": {},
   "outputs": [],
   "source": [
    "df['LicenseIssuedYear'] = df['LicenseIssuedDate'].dt.year\n",
    "df['ApproxDogAge'] = df['LicenseIssuedYear'] - df['AnimalBirthYear']"
   ]
  },
  {
   "cell_type": "code",
   "execution_count": 60,
   "metadata": {},
   "outputs": [],
   "source": [
    "df['DogAgeGroup'] = pd.cut(\n",
    "    df['ApproxDogAge'],\n",
    "    bins=[0, 1, 3, 6, 10, 20],\n",
    "    labels=['0-1 (Puppy)', '2-3 (Young)', '4-6 (Adult)', '7-10 (Senior)', '10+ (Elderly)'],\n",
    "    include_lowest=True\n",
    ")\n",
    "# Clean encoding for Excel display\n",
    "df['DogAgeGroup'] = df['DogAgeGroup'].str.replace('–', '-', regex=False)\n"
   ]
  },
  {
   "cell_type": "markdown",
   "metadata": {},
   "source": [
    "### Step 4: Identify and Handle Missing Values\n",
    "\n",
    "We checked for missing data across all columns to understand where information was incomplete.\n",
    "\n",
    "Key findings:\n",
    "- `AnimalName` had 1,709 missing entries — we decided to keep these since a name doesn't affect license validity.\n",
    "- `AnimalGender`, `AnimalBirthYear`, and `LicenseExpiredDate` had fewer missing values but were important for analysis.\n",
    "\n",
    "To maintain data quality:\n",
    "- We dropped rows where **any of these 3 key columns** were missing:  \n",
    "  `AnimalBirthYear`, `LicenseExpiredDate`, `AnimalGender`.\n"
   ]
  },
  {
   "cell_type": "code",
   "execution_count": 61,
   "metadata": {},
   "outputs": [
    {
     "data": {
      "text/plain": [
       "AnimalName            1709\n",
       "AnimalGender            21\n",
       "AnimalBirthYear         30\n",
       "BreedName                0\n",
       "ZipCode                  0\n",
       "LicenseIssuedDate        0\n",
       "LicenseExpiredDate      79\n",
       "Extract Year             0\n",
       "LicenseIssuedYear        0\n",
       "ApproxDogAge            30\n",
       "DogAgeGroup            423\n",
       "dtype: int64"
      ]
     },
     "execution_count": 61,
     "metadata": {},
     "output_type": "execute_result"
    }
   ],
   "source": [
    "df.isnull().sum()"
   ]
  },
  {
   "cell_type": "code",
   "execution_count": 62,
   "metadata": {},
   "outputs": [
    {
     "data": {
      "text/plain": [
       "130"
      ]
     },
     "execution_count": 62,
     "metadata": {},
     "output_type": "execute_result"
    }
   ],
   "source": [
    "df[df[['AnimalBirthYear', 'LicenseExpiredDate', 'AnimalGender']].isnull().any(axis=1)].shape[0]\n"
   ]
  },
  {
   "cell_type": "markdown",
   "metadata": {},
   "source": [
    "This step removed 130 rows, ensuring our data remains reliable for further analysis.\n"
   ]
  },
  {
   "cell_type": "code",
   "execution_count": 63,
   "metadata": {},
   "outputs": [],
   "source": [
    "# Keep only rows where all three of these values are filled in. Otherwise, lose 130 rows! \n",
    "df = df.dropna(subset=['AnimalBirthYear', 'LicenseExpiredDate', 'AnimalGender'])\n"
   ]
  },
  {
   "cell_type": "markdown",
   "metadata": {},
   "source": [
    "### Step 5: Clean Invalid ZIP Codes\n",
    "\n",
    "To ensure accuracy in geographic analysis, we filtered the ZIP codes so that only valid entries remain.\n",
    "\n",
    "- A valid NYC ZIP code must be **5 digits** long.\n",
    "- Some rows had invalid or missing ZIP codes (like `0`, `100`, or empty), which we removed.\n"
   ]
  },
  {
   "cell_type": "code",
   "execution_count": 64,
   "metadata": {},
   "outputs": [],
   "source": [
    "df = df[df['ZipCode'].str.len() == 5]\n"
   ]
  },
  {
   "cell_type": "markdown",
   "metadata": {},
   "source": [
    "### Step 6: Validate Extract Year\n",
    "\n",
    "We found rows where the `Extract Year` didn't make logical sense. For example, if a dog's license expired in 2021 but the extract year was 2022, that implies the license was still active — which can't be true.\n",
    "\n",
    "✅ Our fix:\n",
    "- We ensured the extract year falls between the license issue and license expiration years\n"
   ]
  },
  {
   "cell_type": "code",
   "execution_count": 65,
   "metadata": {},
   "outputs": [],
   "source": [
    "# Extract the year from issued and expired dates\n",
    "df['IssueYear'] = df['LicenseIssuedDate'].dt.year\n",
    "df['ExpireYear'] = df['LicenseExpiredDate'].dt.year\n",
    "\n",
    "# Keep only rows where extract year is between issue and expire years\n",
    "df = df[\n",
    "    (df['Extract Year'] >= df['IssueYear']) &\n",
    "    (df['Extract Year'] <= df['ExpireYear'])\n",
    "]\n"
   ]
  },
  {
   "cell_type": "code",
   "execution_count": 66,
   "metadata": {},
   "outputs": [],
   "source": [
    "#its redundant\n",
    "df = df.drop(columns=['LicenseIssuedYear'])"
   ]
  },
  {
   "cell_type": "code",
   "execution_count": 68,
   "metadata": {},
   "outputs": [],
   "source": [
    "df.to_csv('Cleaned_NYC_Dog_License.csv', index=False, encoding='utf-8-sig')\n"
   ]
  },
  {
   "cell_type": "code",
   "execution_count": null,
   "metadata": {},
   "outputs": [],
   "source": []
  }
 ],
 "metadata": {
  "kernelspec": {
   "display_name": "base",
   "language": "python",
   "name": "python3"
  },
  "language_info": {
   "codemirror_mode": {
    "name": "ipython",
    "version": 3
   },
   "file_extension": ".py",
   "mimetype": "text/x-python",
   "name": "python",
   "nbconvert_exporter": "python",
   "pygments_lexer": "ipython3",
   "version": "3.12.7"
  },
  "orig_nbformat": 4
 },
 "nbformat": 4,
 "nbformat_minor": 2
}

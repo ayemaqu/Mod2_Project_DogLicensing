{
 "cells": [
  {
   "cell_type": "code",
   "execution_count": 31,
   "metadata": {},
   "outputs": [],
   "source": [
    "import pandas as pd\n",
    "import numpy as np"
   ]
  },
  {
   "cell_type": "code",
   "execution_count": 2,
   "metadata": {},
   "outputs": [
    {
     "name": "stderr",
     "output_type": "stream",
     "text": [
      "/var/folders/v2/9k8drrwj5h39kpr935vvx6j80000gn/T/ipykernel_26394/3073573986.py:1: DtypeWarning: Columns (2) have mixed types. Specify dtype option on import or set low_memory=False.\n",
      "  df = pd.read_csv('NYC_Dog_Licensing_Dataset_.csv')\n"
     ]
    }
   ],
   "source": [
    "df = pd.read_csv('NYC_Dog_Licensing_Dataset_.csv')"
   ]
  },
  {
   "cell_type": "code",
   "execution_count": 3,
   "metadata": {},
   "outputs": [
    {
     "data": {
      "text/plain": [
       "AnimalName             object\n",
       "AnimalGender           object\n",
       "AnimalBirthYear        object\n",
       "BreedName              object\n",
       "ZipCode               float64\n",
       "LicenseIssuedDate      object\n",
       "LicenseExpiredDate     object\n",
       "Extract Year            int64\n",
       "dtype: object"
      ]
     },
     "execution_count": 3,
     "metadata": {},
     "output_type": "execute_result"
    }
   ],
   "source": [
    "df.dtypes"
   ]
  },
  {
   "cell_type": "code",
   "execution_count": 4,
   "metadata": {},
   "outputs": [
    {
     "name": "stdout",
     "output_type": "stream",
     "text": [
      "Total rows: 722864\n"
     ]
    }
   ],
   "source": [
    "print(\"Total rows:\", len(df))"
   ]
  },
  {
   "cell_type": "code",
   "execution_count": 5,
   "metadata": {},
   "outputs": [
    {
     "data": {
      "text/html": [
       "<div>\n",
       "<style scoped>\n",
       "    .dataframe tbody tr th:only-of-type {\n",
       "        vertical-align: middle;\n",
       "    }\n",
       "\n",
       "    .dataframe tbody tr th {\n",
       "        vertical-align: top;\n",
       "    }\n",
       "\n",
       "    .dataframe thead th {\n",
       "        text-align: right;\n",
       "    }\n",
       "</style>\n",
       "<table border=\"1\" class=\"dataframe\">\n",
       "  <thead>\n",
       "    <tr style=\"text-align: right;\">\n",
       "      <th></th>\n",
       "      <th>AnimalName</th>\n",
       "      <th>AnimalGender</th>\n",
       "      <th>AnimalBirthYear</th>\n",
       "      <th>BreedName</th>\n",
       "      <th>ZipCode</th>\n",
       "      <th>LicenseIssuedDate</th>\n",
       "      <th>LicenseExpiredDate</th>\n",
       "      <th>Extract Year</th>\n",
       "    </tr>\n",
       "  </thead>\n",
       "  <tbody>\n",
       "    <tr>\n",
       "      <th>0</th>\n",
       "      <td>PAIGE</td>\n",
       "      <td>F</td>\n",
       "      <td>2014</td>\n",
       "      <td>American Pit Bull Mix / Pit Bull Mix</td>\n",
       "      <td>10035.0</td>\n",
       "      <td>09/12/2014</td>\n",
       "      <td>09/12/2017</td>\n",
       "      <td>2016</td>\n",
       "    </tr>\n",
       "    <tr>\n",
       "      <th>1</th>\n",
       "      <td>YOGI</td>\n",
       "      <td>M</td>\n",
       "      <td>2010</td>\n",
       "      <td>Boxer</td>\n",
       "      <td>10465.0</td>\n",
       "      <td>09/12/2014</td>\n",
       "      <td>10/02/2017</td>\n",
       "      <td>2016</td>\n",
       "    </tr>\n",
       "    <tr>\n",
       "      <th>2</th>\n",
       "      <td>ALI</td>\n",
       "      <td>M</td>\n",
       "      <td>2014</td>\n",
       "      <td>Basenji</td>\n",
       "      <td>10013.0</td>\n",
       "      <td>09/12/2014</td>\n",
       "      <td>09/12/2019</td>\n",
       "      <td>2016</td>\n",
       "    </tr>\n",
       "    <tr>\n",
       "      <th>3</th>\n",
       "      <td>QUEEN</td>\n",
       "      <td>F</td>\n",
       "      <td>2013</td>\n",
       "      <td>Akita Crossbreed</td>\n",
       "      <td>10013.0</td>\n",
       "      <td>09/12/2014</td>\n",
       "      <td>09/12/2017</td>\n",
       "      <td>2016</td>\n",
       "    </tr>\n",
       "    <tr>\n",
       "      <th>4</th>\n",
       "      <td>LOLA</td>\n",
       "      <td>F</td>\n",
       "      <td>2009</td>\n",
       "      <td>Maltese</td>\n",
       "      <td>10028.0</td>\n",
       "      <td>09/12/2014</td>\n",
       "      <td>10/09/2017</td>\n",
       "      <td>2016</td>\n",
       "    </tr>\n",
       "    <tr>\n",
       "      <th>...</th>\n",
       "      <td>...</td>\n",
       "      <td>...</td>\n",
       "      <td>...</td>\n",
       "      <td>...</td>\n",
       "      <td>...</td>\n",
       "      <td>...</td>\n",
       "      <td>...</td>\n",
       "      <td>...</td>\n",
       "    </tr>\n",
       "    <tr>\n",
       "      <th>95</th>\n",
       "      <td>SPUDS</td>\n",
       "      <td>M</td>\n",
       "      <td>2010</td>\n",
       "      <td>Bulldog</td>\n",
       "      <td>10461.0</td>\n",
       "      <td>09/17/2014</td>\n",
       "      <td>09/17/2017</td>\n",
       "      <td>2016</td>\n",
       "    </tr>\n",
       "    <tr>\n",
       "      <th>96</th>\n",
       "      <td>BOO</td>\n",
       "      <td>F</td>\n",
       "      <td>2013</td>\n",
       "      <td>Labradoodle</td>\n",
       "      <td>11211.0</td>\n",
       "      <td>09/17/2014</td>\n",
       "      <td>09/17/2019</td>\n",
       "      <td>2016</td>\n",
       "    </tr>\n",
       "    <tr>\n",
       "      <th>97</th>\n",
       "      <td>SAMMY</td>\n",
       "      <td>M</td>\n",
       "      <td>2006</td>\n",
       "      <td>Shiba Inu</td>\n",
       "      <td>10011.0</td>\n",
       "      <td>09/17/2014</td>\n",
       "      <td>10/31/2016</td>\n",
       "      <td>2016</td>\n",
       "    </tr>\n",
       "    <tr>\n",
       "      <th>98</th>\n",
       "      <td>MAX</td>\n",
       "      <td>M</td>\n",
       "      <td>2005</td>\n",
       "      <td>Pug</td>\n",
       "      <td>10025.0</td>\n",
       "      <td>09/17/2014</td>\n",
       "      <td>10/30/2016</td>\n",
       "      <td>2016</td>\n",
       "    </tr>\n",
       "    <tr>\n",
       "      <th>99</th>\n",
       "      <td>WALTER</td>\n",
       "      <td>M</td>\n",
       "      <td>2010</td>\n",
       "      <td>American Pit Bull Terrier/Pit Bull</td>\n",
       "      <td>11375.0</td>\n",
       "      <td>09/17/2014</td>\n",
       "      <td>05/17/2019</td>\n",
       "      <td>2016</td>\n",
       "    </tr>\n",
       "  </tbody>\n",
       "</table>\n",
       "<p>100 rows × 8 columns</p>\n",
       "</div>"
      ],
      "text/plain": [
       "   AnimalName AnimalGender AnimalBirthYear  \\\n",
       "0       PAIGE            F            2014   \n",
       "1        YOGI            M            2010   \n",
       "2         ALI            M            2014   \n",
       "3       QUEEN            F            2013   \n",
       "4        LOLA            F            2009   \n",
       "..        ...          ...             ...   \n",
       "95      SPUDS            M            2010   \n",
       "96        BOO            F            2013   \n",
       "97      SAMMY            M            2006   \n",
       "98        MAX            M            2005   \n",
       "99     WALTER            M            2010   \n",
       "\n",
       "                               BreedName  ZipCode LicenseIssuedDate  \\\n",
       "0   American Pit Bull Mix / Pit Bull Mix  10035.0        09/12/2014   \n",
       "1                                  Boxer  10465.0        09/12/2014   \n",
       "2                                Basenji  10013.0        09/12/2014   \n",
       "3                       Akita Crossbreed  10013.0        09/12/2014   \n",
       "4                                Maltese  10028.0        09/12/2014   \n",
       "..                                   ...      ...               ...   \n",
       "95                               Bulldog  10461.0        09/17/2014   \n",
       "96                           Labradoodle  11211.0        09/17/2014   \n",
       "97                             Shiba Inu  10011.0        09/17/2014   \n",
       "98                                   Pug  10025.0        09/17/2014   \n",
       "99    American Pit Bull Terrier/Pit Bull  11375.0        09/17/2014   \n",
       "\n",
       "   LicenseExpiredDate  Extract Year  \n",
       "0          09/12/2017          2016  \n",
       "1          10/02/2017          2016  \n",
       "2          09/12/2019          2016  \n",
       "3          09/12/2017          2016  \n",
       "4          10/09/2017          2016  \n",
       "..                ...           ...  \n",
       "95         09/17/2017          2016  \n",
       "96         09/17/2019          2016  \n",
       "97         10/31/2016          2016  \n",
       "98         10/30/2016          2016  \n",
       "99         05/17/2019          2016  \n",
       "\n",
       "[100 rows x 8 columns]"
      ]
     },
     "execution_count": 5,
     "metadata": {},
     "output_type": "execute_result"
    }
   ],
   "source": [
    "df.head(100)"
   ]
  },
  {
   "cell_type": "code",
   "execution_count": 6,
   "metadata": {},
   "outputs": [
    {
     "data": {
      "text/plain": [
       "Index(['AnimalName', 'AnimalGender', 'AnimalBirthYear', 'BreedName', 'ZipCode',\n",
       "       'LicenseIssuedDate', 'LicenseExpiredDate', 'Extract Year'],\n",
       "      dtype='object')"
      ]
     },
     "execution_count": 6,
     "metadata": {},
     "output_type": "execute_result"
    }
   ],
   "source": [
    "df.keys()"
   ]
  },
  {
   "cell_type": "markdown",
   "metadata": {},
   "source": [
    "### 🛠️ Step 1: Fix the Data Types for Each Column\n",
    "\n",
    "Ensure all columns have the correct data types to support accurate analysis:\n",
    "- Convert dates (e.g., `LicenseIssuedDate`) to `datetime`\n",
    "- Convert numeric values (e.g., `AnimalBirthYear`) to `int`\n",
    "- Convert `ZipCode` to string to preserve leading zeros and allow proper grouping\n"
   ]
  },
  {
   "cell_type": "code",
   "execution_count": 7,
   "metadata": {},
   "outputs": [],
   "source": [
    "# Convert dates to datetime\n",
    "df['LicenseIssuedDate'] = pd.to_datetime(df['LicenseIssuedDate'], errors='coerce')\n",
    "df['LicenseExpiredDate'] = pd.to_datetime(df['LicenseExpiredDate'], errors='coerce')\n"
   ]
  },
  {
   "cell_type": "code",
   "execution_count": 8,
   "metadata": {},
   "outputs": [],
   "source": [
    "# Convert birth year to numeric\n",
    "df['AnimalBirthYear'] = pd.to_numeric(df['AnimalBirthYear'], errors='coerce')\n"
   ]
  },
  {
   "cell_type": "code",
   "execution_count": 9,
   "metadata": {},
   "outputs": [],
   "source": [
    "# Convert zip code to string so we can group by it without decimal places\n",
    "df['ZipCode'] = df['ZipCode'].astype('Int64').astype(str)"
   ]
  },
  {
   "cell_type": "code",
   "execution_count": 10,
   "metadata": {},
   "outputs": [],
   "source": [
    "df['BreedName'] = df['BreedName'].str.strip()\n",
    "df['AnimalGender'] = df['AnimalGender'].str.strip()\n"
   ]
  },
  {
   "cell_type": "code",
   "execution_count": 11,
   "metadata": {},
   "outputs": [
    {
     "data": {
      "text/plain": [
       "AnimalName                    object\n",
       "AnimalGender                  object\n",
       "AnimalBirthYear              float64\n",
       "BreedName                     object\n",
       "ZipCode                       object\n",
       "LicenseIssuedDate     datetime64[ns]\n",
       "LicenseExpiredDate    datetime64[ns]\n",
       "Extract Year                   int64\n",
       "dtype: object"
      ]
     },
     "execution_count": 11,
     "metadata": {},
     "output_type": "execute_result"
    }
   ],
   "source": [
    "df.dtypes"
   ]
  },
  {
   "cell_type": "markdown",
   "metadata": {},
   "source": [
    "### Step 2: Check for Full Row Duplicates\n",
    "\n",
    "Instead of checking for duplicates column by column (which might drop valid but similar entries like dogs with the same name), we checked for **exact duplicate rows**. \n",
    "\n",
    "For example, there might be two dogs named Luna, but they could have different birth years, breeds, or license dates, so we **only dropped rows that were completely identical across all columns**, ensuring no meaningful data was lost.\n"
   ]
  },
  {
   "cell_type": "code",
   "execution_count": 12,
   "metadata": {},
   "outputs": [
    {
     "data": {
      "text/plain": [
       "np.int64(40545)"
      ]
     },
     "execution_count": 12,
     "metadata": {},
     "output_type": "execute_result"
    }
   ],
   "source": [
    "df.duplicated().sum()"
   ]
  },
  {
   "cell_type": "code",
   "execution_count": 13,
   "metadata": {},
   "outputs": [],
   "source": [
    "df = df.drop_duplicates()"
   ]
  },
  {
   "cell_type": "code",
   "execution_count": 14,
   "metadata": {},
   "outputs": [
    {
     "data": {
      "text/plain": [
       "np.int64(0)"
      ]
     },
     "execution_count": 14,
     "metadata": {},
     "output_type": "execute_result"
    }
   ],
   "source": [
    "df.duplicated().sum()"
   ]
  },
  {
   "cell_type": "code",
   "execution_count": 15,
   "metadata": {},
   "outputs": [
    {
     "name": "stdout",
     "output_type": "stream",
     "text": [
      "Total rows: 682319\n"
     ]
    }
   ],
   "source": [
    "print(\"Total rows:\", len(df))\n"
   ]
  },
  {
   "cell_type": "markdown",
   "metadata": {},
   "source": [
    "### 🐾 Step 3: Create Age Groups for Dogs\n",
    "\n",
    "We used the `ApproxDogAge` column to categorize dogs into meaningful life stages. This helps support business questions about age distribution and trends.\n",
    "\n",
    "We defined age bins as follows:\n",
    "- `0–1` → Puppy  \n",
    "- `2–3` → Young  \n",
    "- `4–6` → Adult  \n",
    "- `7–10` → Senior  \n",
    "- `10+` → Elderly  \n",
    "\n",
    "We also ensured proper display by replacing any special en dashes (–) with regular hyphens (-) to avoid formatting issues in Excel.\n"
   ]
  },
  {
   "cell_type": "code",
   "execution_count": 32,
   "metadata": {},
   "outputs": [],
   "source": [
    "df['LicenseIssuedYear'] = df['LicenseIssuedDate'].dt.year\n",
    "# Replace negative or unrealistic ages with NaN\n",
    "df['ApproxDogAge'] = df['ApproxDogAge'].apply(lambda x: x if 0 <= x <= 25 else np.nan)\n"
   ]
  },
  {
   "cell_type": "code",
   "execution_count": 33,
   "metadata": {},
   "outputs": [
    {
     "name": "stdout",
     "output_type": "stream",
     "text": [
      "float64\n"
     ]
    }
   ],
   "source": [
    "print(df['ApproxDogAge'].dtype)  # Should be float or int\n"
   ]
  },
  {
   "cell_type": "code",
   "execution_count": 34,
   "metadata": {},
   "outputs": [],
   "source": [
    "df['DogAgeGroup'] = pd.cut(\n",
    "    df['ApproxDogAge'],\n",
    "    bins=[0, 1, 3, 6, 10, 20],\n",
    "    labels=['0-1 (Puppy)', '2-3 (Young)', '4-6 (Adult)', '7-10 (Senior)', '10+ (Elderly)'],\n",
    "    include_lowest=True\n",
    ")\n",
    "# Clean encoding for Excel display\n",
    "df['DogAgeGroup'] = df['DogAgeGroup'].str.replace('-', '-', regex=False)\n"
   ]
  },
  {
   "cell_type": "code",
   "execution_count": null,
   "metadata": {},
   "outputs": [],
   "source": []
  },
  {
   "cell_type": "markdown",
   "metadata": {},
   "source": [
    "### Step 4: Identify and Handle Missing Values\n",
    "\n",
    "We checked for missing data across all columns to understand where information was incomplete.\n",
    "\n",
    "Key findings:\n",
    "- `AnimalName` had 1,709 missing entries — we decided to keep these since a name doesn't affect license validity.\n",
    "- `AnimalGender`, `AnimalBirthYear`, and `LicenseExpiredDate` had fewer missing values but were important for analysis.\n",
    "\n",
    "To maintain data quality:\n",
    "- We dropped rows where **any of these 3 key columns** were missing:  \n",
    "  `AnimalBirthYear`, `LicenseExpiredDate`, `AnimalGender`.\n"
   ]
  },
  {
   "cell_type": "code",
   "execution_count": 35,
   "metadata": {},
   "outputs": [
    {
     "data": {
      "text/plain": [
       "AnimalName              0\n",
       "AnimalGender            0\n",
       "AnimalBirthYear         0\n",
       "BreedName               0\n",
       "ZipCode                 0\n",
       "LicenseIssuedDate       0\n",
       "LicenseExpiredDate      0\n",
       "Extract Year            0\n",
       "ApproxDogAge           97\n",
       "DogAgeGroup           343\n",
       "IssueYear               0\n",
       "ExpireYear              0\n",
       "IsBadName               0\n",
       "CleanedBreedName        0\n",
       "LicenseIssuedYear       0\n",
       "dtype: int64"
      ]
     },
     "execution_count": 35,
     "metadata": {},
     "output_type": "execute_result"
    }
   ],
   "source": [
    "df.isnull().sum()"
   ]
  },
  {
   "cell_type": "code",
   "execution_count": 36,
   "metadata": {},
   "outputs": [
    {
     "data": {
      "text/plain": [
       "0"
      ]
     },
     "execution_count": 36,
     "metadata": {},
     "output_type": "execute_result"
    }
   ],
   "source": [
    "df[df[['AnimalBirthYear', 'LicenseExpiredDate', 'AnimalGender']].isnull().any(axis=1)].shape[0]\n"
   ]
  },
  {
   "cell_type": "markdown",
   "metadata": {},
   "source": [
    "This step removed 130 rows, ensuring our data remains reliable for further analysis.\n"
   ]
  },
  {
   "cell_type": "code",
   "execution_count": 37,
   "metadata": {},
   "outputs": [],
   "source": [
    "# Keep only rows where all three of these values are filled in. Otherwise, lose 130 rows! \n",
    "df = df.dropna(subset=['AnimalBirthYear', 'LicenseExpiredDate', 'AnimalGender'])\n"
   ]
  },
  {
   "cell_type": "code",
   "execution_count": 38,
   "metadata": {},
   "outputs": [
    {
     "name": "stdout",
     "output_type": "stream",
     "text": [
      "Total rows: 546717\n"
     ]
    }
   ],
   "source": [
    "print(\"Total rows:\", len(df))\n"
   ]
  },
  {
   "cell_type": "markdown",
   "metadata": {},
   "source": [
    "### Step 5: Clean Invalid ZIP Codes\n",
    "\n",
    "To ensure accuracy in geographic analysis, we filtered the ZIP codes so that only valid entries remain.\n",
    "\n",
    "- A valid NYC ZIP code must be **5 digits** long.\n",
    "- Some rows had invalid or missing ZIP codes (like `0`, `100`, or empty), which we removed.\n"
   ]
  },
  {
   "cell_type": "code",
   "execution_count": 39,
   "metadata": {},
   "outputs": [],
   "source": [
    "df['ZipCode'] = df['ZipCode'].astype(str)\n",
    "df = df[df['ZipCode'].str.len() == 5] "
   ]
  },
  {
   "cell_type": "code",
   "execution_count": 40,
   "metadata": {},
   "outputs": [
    {
     "name": "stdout",
     "output_type": "stream",
     "text": [
      "Total rows: 546717\n"
     ]
    }
   ],
   "source": [
    "print(\"Total rows:\", len(df))\n"
   ]
  },
  {
   "cell_type": "markdown",
   "metadata": {},
   "source": [
    "### Step 6: Validate Extract Year\n",
    "\n",
    "We found rows where the `Extract Year` didn't make logical sense. For example, if a dog's license expired in 2021 but the extract year was 2022, that implies the license was still active — which can't be true.\n",
    "\n",
    "✅ Our fix:\n",
    "- We ensured the extract year falls between the license issue and license expiration years\n"
   ]
  },
  {
   "cell_type": "code",
   "execution_count": 41,
   "metadata": {},
   "outputs": [],
   "source": [
    "# Extract the year from issued and expired dates\n",
    "df['IssueYear'] = df['LicenseIssuedDate'].dt.year\n",
    "df['ExpireYear'] = df['LicenseExpiredDate'].dt.year\n",
    "\n",
    "# Keep only rows where extract year is between issue and expire years\n",
    "df = df[\n",
    "    (df['Extract Year'] >= df['IssueYear']) &\n",
    "    (df['Extract Year'] <= df['ExpireYear'])\n",
    "]\n"
   ]
  },
  {
   "cell_type": "code",
   "execution_count": 42,
   "metadata": {},
   "outputs": [],
   "source": [
    "#its redundant\n",
    "df = df.drop(columns=['LicenseIssuedYear'])"
   ]
  },
  {
   "cell_type": "code",
   "execution_count": 43,
   "metadata": {},
   "outputs": [],
   "source": [
    "zipcodes = pd.read_csv('zipcode.csv')\n",
    "df['ZipCode'] = df['ZipCode'].astype(str).str.strip().str.replace(r'\\.0$', '',regex=True)\n",
    "valid_zips = zipcodes['NYC Zipcodes'].astype(str).str.strip().str.replace(r'\\.0$', '', regex = True)\n",
    "df = df[df['ZipCode'].isin(valid_zips)]"
   ]
  },
  {
   "cell_type": "markdown",
   "metadata": {},
   "source": [
    "We wanted to identify how many \"bad\" or placeholder dog names exist in the dataset. While we are not deleting them, since they aren’t directly related to our business question, we aimed to avoid unnecessary data loss and maintain as much usable information as possible.\n",
    "\n"
   ]
  },
  {
   "cell_type": "code",
   "execution_count": 44,
   "metadata": {},
   "outputs": [
    {
     "name": "stdout",
     "output_type": "stream",
     "text": [
      "Unusable dog names: 9099\n",
      "Usable dog names: 537618\n"
     ]
    }
   ],
   "source": [
    "# no name \n",
    "df['AnimalName'] = df['AnimalName'].str.upper()\n",
    "#a list of names that are bad\n",
    "bad_names = {\n",
    "        'NAME', 'NAME NOT PROVIDED', 'NAME?', 'NAMEME',\n",
    "    'NO NAME', 'NONAME', 'UNNAME', 'WHATSHERNAME', '.', '2'\n",
    "}\n",
    "\n",
    "df['AnimalName'] = df['AnimalName'].fillna('').str.strip()\n",
    "\n",
    "df['IsBadName'] = df['AnimalName'].isin(bad_names)\n",
    "\n",
    "# Count total unusable and usable names\n",
    "bad_name_count = df['IsBadName'].sum()\n",
    "usable_name_count = (~df['IsBadName']).sum()\n",
    "\n",
    "print(f\"Unusable dog names: {bad_name_count}\")\n",
    "print(f\"Usable dog names: {usable_name_count}\")\n",
    "\n"
   ]
  },
  {
   "cell_type": "code",
   "execution_count": 45,
   "metadata": {},
   "outputs": [],
   "source": [
    "import re\n",
    "\n",
    "# Replace all variations with the word \"Mix\"\n",
    "df['BreedName'] = (\n",
    "    df['BreedName']\n",
    "    .str.replace(r'\\b(Mix|Crossbreed|Cross|X)\\b', 'Mix', regex=True)  # standardize\n",
    "    .str.replace(r'\\s+', ' ', regex=True)  # remove double spaces\n",
    "    .str.strip()  # trim leading/trailing space\n",
    "    .str.title()  # format like \"Poodle Mix\"\n",
    ")\n"
   ]
  },
  {
   "cell_type": "code",
   "execution_count": 46,
   "metadata": {},
   "outputs": [
    {
     "name": "stdout",
     "output_type": "stream",
     "text": [
      "\n",
      "✅ Total unique breeds: 1125\n",
      "🟡 Matched breeds: 689\n",
      "❌ Unmatched breeds (still messy): 436\n",
      "{'Pompoo', 'Hound Mastiff', 'Morky', 'Yellow Lab', 'Westie-Poodle', 'Not Provided', 'Lhasa Apso/Shih', 'Leonberger', 'Maltes/Shih Tzu', 'Schnauzer/Poodle', 'Lhasa-Bijon', 'Bichon/Cairn', 'Chintese', 'Hunting Dog/Rescue', 'Shep/Doxie', 'Engish Pointer', 'Samoyed', 'Japanese Chin/Spaniel', 'Miniature Schnauzer', 'Maltese/Pomeranian', 'Finnish Spitz', 'Poodle/Pompoo', 'Smooth Hair Fox Terrier', 'Sapsal, Korea', 'Mastiff', 'Eng Setter', 'Mountain Feist', 'English Setter', 'Poodle, Miniature', 'Irish Wolfhound', 'English Springer Spaniel', 'Jap Chin / Maltese', 'Rhodesian Ridgeback', 'Labrador/G.Shep', 'Whippet', 'Belgian Griffon', 'Canaan', 'Peke-A-Poo', 'Shihtzu-A-Poo', 'Scott Terr/Shih Tsu', 'Pomtese', 'Mastiff, Tibetan', 'Newfoundland', 'Schipperkee', 'Coonhound, Redbone', 'St. Bernard', 'Blue Heeler / Schnauser', 'Ridgeback/Rottweiler', 'Peke A Ppp', 'Cokaspinial Poodle', 'Japanese Spitz', 'Standard Poodle', 'Beagle-Pei', 'Australian Kelpie', 'Miniature Pinscher', 'Hungarian Puli', 'Shiffon', 'Lhasa Apso', 'Mastiff, Old English', 'Papillon', 'Bichon F/T Pdle', 'Finnish Lapphund', 'Yorkshire Terri', 'Askal', 'Mi-Ki', 'Xoloitzcuintli', 'Dachshund/Beagle', 'Cattle Dog - Blue Healer', 'Sheltie Poo', 'Mini Bulldog', 'Doberman', 'Podenao Port', 'French Bulldog/Pug', 'Coonhound, Black And Tan', 'Hound/Lab', 'Beagle/Hound', 'Collie / Retreiver', 'Sheltie', 'Cirneco Dell', 'Coonhound, Blue Tick', 'Lab Retriver + Pitt Bull', 'Black Lab Multi', 'Havachon', 'Pomapoo', 'Corgy / Labrador', 'Pumi', 'Cockachon', 'Lhasa Apso/Pood', 'Poodle, Standard', 'Shihtese', 'Dachshund, Wirehaired', 'Doberman Pinscher', 'Lab/Doberman/Sheepdog', 'Bost Terr/Lhasa', 'Malsish', 'Bouvier Des Flandres', 'Bullmastiff', 'Dachs/Shih Tzu', 'Boggle', 'Lhatese', 'Portuguese Sheepdog', 'Jackabee /Russ', 'Shih/Maltese', 'Bernese Mountain Dog', 'Yorkie Rat Terr', 'Maltese/Shitzu', 'Dachshun/Chihua', 'Shinese', 'Standard Schnauzer', 'Cavashon', 'Giant Schnoodle', 'Havapeke', 'Peruvian Inca Orchid', 'Gold Retr/Chow', 'Havapoo', 'Giant Schnauzer', 'Polanese', 'Kromfohrlander', 'Lhasa Apso Miix', 'Welsh Corgi, Pembroke', 'Welsh Corgi, Cardigan', 'Shihchon', 'Zuchon', 'Chow Chow', 'Labrador/Collie', 'French Beagle', 'Keeshond', 'Puggle', 'Pinscher-Chih', 'Ori Pei', 'Schnauzer', 'Belgian Malinois', 'Spitz', 'Spinone', 'Jindo', 'Softc Wheat Ter', 'Havashire', 'Bugg', 'Bloodhound', 'Borzoi', 'Azawakh', 'Blue Heeler', 'British Lab', 'Cav Kc', 'English Mastiff', 'Pug/Beagle', 'Chow Chow/ Lab', 'Schnauzer, Standard', 'Multi', 'Portuguese Water Dog', 'Jindo Dog, Korea', 'Chinese Shar-Pei', 'W High Wt Terr', 'Icelandic Sheepdog', 'English Pug', 'Jagdterrier', 'Peke-A-Tese', 'Belgian Tervuren', 'Collie, Rough Coat', 'Italian Greyhound', 'Mastiff/Shepherd', 'Chih Terr', 'Russian Wolfhound', 'Huckapoo', 'No Idea', 'Maltese-Pomeranian', 'Gordon Setter', 'Dachshund, Long Haired', 'Irish Setter', 'Brussel Griffon', 'Lhasa/Malt', 'Teddy-Bear', 'Perro De Presa Canario', 'Yorkiepoo', 'Canine', 'Fila Brasileiro', 'Olde English Bull Dog', 'German Pinscher', 'Redbone Coonhound', 'Malkie', 'Eng Springer Spaniel', 'Bergamasco', 'Malt Poodle', 'Shetland Sheepdog', 'Pug-Bijon', 'Lab Weimarner', 'Havanese/Poodle', 'Dachshund-Scottie', 'Ibizan Hound', 'Shih Tzu/Papillion', 'Coonhound, Treeing Walker', 'Cocker-Poo', 'Hava Poo', 'Dogo Argentino', 'Lowchen', 'Wirehaired Vizsla', 'Collie/Retriever', 'Teddy Bear', 'Cocker Poo', 'Cane Corso', 'Stabyhoun', 'Pharoh Hound', 'Puli', 'Shihmalt', 'Boerboel', 'Brauzer', 'Cur', 'Treeing Tennessee Brindle', 'Breed Information Not Provided.', 'Chiweenie', 'Schnauzer, Giant', 'Yorky', 'Welsh Springer Spaniel', 'Plott', 'English Foxhound', 'Hovawart', 'Swedish Vallhund', 'Pyrenean Shepherd', 'Beagle / Dachshund', 'Pharaoh Hound', 'English Pointer', 'Poochon', 'Min Pi N/Poodle', 'Baladi', 'Treeing Walker Coonhound', 'Hound Beagle', 'Schanuzer/Yorkie', 'Beauceron', 'Retriever/Chow', 'Pitbull-Bulldog', 'Schnocker', 'Bearded Collie', 'English Cocker Spaniel', 'Norwegian Buhund', 'Mini Golden Doodle', 'Pug', 'Bolognese', 'Wirehaired Pointing Griffon', 'Boston Bulldog', 'Morkie', 'Germ Shep/Husky', 'Chi/Doxen', 'Lhasa Apso/Poodle', 'Jack Rus Chihua', 'Brussels Griffon', 'Great Pyrenees', 'Miniature Dachshund', 'Polish Lowland Sheepdog', 'Bluetick Coonhound', 'Shiht-Zu Imperial', 'Shicon', 'Lagotto Romagnolo', 'Brittany', 'Biewer Terr', 'Collie, Bearded', 'Aus Shep/Heeler/Ret', 'Malte-Poo', 'Aussie Cattle Dog Heeler', 'Schnoodle', 'Cockalier', 'Akita', 'Rat Terr', 'Multi-Poo', 'Beagle/English Bull Dog', 'Mini Aust.Shepherd', 'Boxer', 'Pekingese', 'Maltese/Poodle', 'Coocker-Poo', 'Havanese', 'Mudi', 'Blue Nose Pitbull', 'Westminster Ter', 'Cavapoo', 'Labrado/Great D', 'Malti-Shi', 'Am Staffordshire Terr', 'Maltese / Shih Tzu', 'Boxer/Pitt', 'Germ Shep/Siberian Husky', 'Pomsky', 'Maltese-Shihtzu', 'Thai Ridgeback', 'Rottweiler', 'Cava-Poo', 'Dalmatian', 'Greek Shephard', 'Kuvasz', 'Chih/Poo', 'French Bulldog', 'Mastiff, Neapolitan', 'Hamiltonstovare', 'Red Tick Coonhound', 'Red Poodle', 'Collie, Smooth Coat', 'Japanese Chin', 'Australian Labradoodle', 'Schipperke', 'Afghan Hound', 'Pekingese/Poodle', 'Weimaraner', 'Jack Russ / Chih', 'Schnauzer, Miniature', 'Pembroke Welsh Corgi', 'Briard', 'Belgian Sheepdog', 'Shar-Pei, Chinese', 'Shihpoo', 'Shih Tzu/Yorkie', 'Pomeranian', 'Walker Hound', 'Pomeranian-Maltese', 'Petersburg Orchid', 'Pyrenean Mastiff', 'Lhasa Apso/Terr', 'Shorky', 'Potcake', 'Maltese/Shih Tzu', 'Barbet', 'Terr / Shep', 'Cardigan Welsh Corgi', 'Italian Spinone', 'Yorki-Poo', 'Polish Hound', 'Shipa', 'Cavachon', 'Greyhound', 'Black And Tan Coonhound', 'Unknown (Stray)', 'Peagle', 'Collie / Lab', 'Flat-Coated Retriever', 'Snoodle', 'Old English Sheepdog', 'Alaskan Klee Kai', 'Dogue De Bordeaux', 'Blackmouthcur', 'Frend Poo', 'Spanador', 'Chi-Yorkie', 'Slorky', 'Podengo Pequeno', 'Belgian Laekenois', 'Estrela Mountain Dog', 'Maltese/Havanese', 'Slovensky Cuvac', 'Pek-A-Tese', 'Cocoer-Poo', 'Sharpei / Puggle', 'Vizsla', 'Chi-Poo', 'Shih Tzu/Maltese', 'Shepherd Pintzer', 'Alaskan Malamute', 'Kishu Ken', 'Mahshih', 'Part Golden Retriever', 'Lancashire Heeler', 'Sharpei-Beagle', 'Labrador/ Shih Tzu', 'Irish Red And White Setter', 'Affenpinscher', 'Dachshaun/Poodle', 'Bernedoodle', 'Kai Ken', 'Eurasier', 'Maltese Shihtzu', 'Karelian Bear Dog', 'Other', 'Nova Scotia Toller', 'Maltese / Poo', 'Tosa', 'Kooikerhondje', 'Cavazoo', 'Whoodle', 'Curly-Coated Retriever', 'Maltese/Poodle,Toy', 'Irish Jack Russ', 'Boston Terr/Min Boxer', 'Dach / Chih', 'Cockerpoo', 'Great Dane', 'West High White Terrier', 'Basenji', 'Pom-Chi', 'Neapolitan Mastiff', 'Pom / Yorkie', 'Bulldog', 'Yorkie-Shih Tzu', 'Breed ?', 'Basenji/Whippet', 'Fox Hound', 'Doxie', 'Fox/Sheltie', 'Peak-A-Poo', 'Lab Bord Collie', 'Otterhound', 'Spinone Italiano', 'Unknown', 'Bracco Italiano', 'Presa Canario', 'Shih Tzu / Yorkie', 'Poodle/Westie', 'Mini Doberman', 'Papitese', 'Shiba Inu', 'Dachshund / Doxie', 'Schnauzer-Poodle', 'Golden Retr/Cattle Dog', 'Saluki', 'Portuguese Podengo Pequeno', 'Malshipoo', 'Beagle', 'Pug/Chihu/Pomer', 'Tibetan Mastiff', 'Aust.Cattle Dog', 'Mutt', '6152012', 'Saint Bernard', 'Austrian Hunting', 'Scottish Deerhound', 'Shi-Poo', 'Maltese/Cav Kin', 'Chesapeake Bay Retriever', 'Havadoodle', 'Harrier', 'Anatolian Shepherd Dog', 'English Shepher', 'Formosan Mountain', 'Olde English Bulldogge', 'Chihua/Ter/Dsch', 'Ori-Pei', 'Royal Bah Potca', 'Norwegian Elkhound', 'Chinook', 'Cigi'}\n"
     ]
    }
   ],
   "source": [
    "from thefuzz import process\n",
    "\n",
    "# unique_breeds = df['BreedName']\n",
    "unique_breeds = df['BreedName'].dropna().astype(str).unique()\n",
    "# choose a reference list of \"cleaned\" breeds\n",
    "reference_breeds = [\n",
    "    'Airedale Terrier', 'Airedale Terrier Mix',\n",
    "    'American Eskimo Mix', 'American Ekimo',\n",
    "    'American Pit Bull Terrier Mix',\n",
    "    'American Staffordshie Terrier','American Staffordshie Terrier Mix',\n",
    "    'Australian cattle dog', 'Basset Hound', 'Australian Shepherd', 'Berger Picard', \n",
    "    'Bichon Poodle', 'Bichon Shih Tzu', 'Bichon Frise', 'Yorkie Bichon', 'Catahoula leopard',\n",
    "    'Cavalier King Charles Spaniel', 'Chihuahua', 'Chihuahua Mix', 'long-haired Chihuahua', 'Border Collie',\n",
    "    'Coton de Tulear','Cockapoo', 'Toy Australian Shepherd', 'Dachshund smooth coat', 'Golden Retrievers', 'Goldendoodle', 'Miniature Goldendoodles',\n",
    "    'chinese crested', 'German Shepherd', 'Corgi German Shepherd', 'Husky German Shepherd', 'jack russell chihuahua', 'labrador retriever', 'Yorkie Poodle',\n",
    "    'Spanish Water Dog', 'small munsterlander', 'Shorkie', 'Shitzu Poodle', 'Pitbull pointer', 'Teacup Poodle', 'Pekapoo', 'jack russell',\n",
    "    'Lhasapoo', 'Maltipoo', 'mini pinscher', 'Mixed', 'mini labradoodle', 'Westiepoo', 'French Poodle', 'Peek-a-boo', 'Shorkie', 'labrador cattle dog', 'Taiwan Mountain',\n",
    "    'cockapoo', 'Cock-a-poo', 'yorkie maltese'\n",
    "]\n",
    "breed_map = {}\n",
    "for breed in unique_breeds:\n",
    "    match, score = process.extractOne(breed, reference_breeds)\n",
    "    if score >= 85:  # Match threshold\n",
    "        breed_map[breed] = match\n",
    "\n",
    "# Step 5: Apply cleaned breed names — fallback to original if no match\n",
    "df['CleanedBreedName'] = df['BreedName'].apply(lambda x: breed_map.get(x, x))\n",
    "\n",
    "# Step 6 (optional): Check unmatched entries\n",
    "unmatched_breeds = set(unique_breeds) - set(breed_map.keys())\n",
    "print(f\"\\n✅ Total unique breeds: {len(unique_breeds)}\")\n",
    "print(f\"🟡 Matched breeds: {len(breed_map)}\")\n",
    "print(f\"❌ Unmatched breeds (still messy): {len(unmatched_breeds)}\")\n",
    "print(unmatched_breeds)\n"
   ]
  },
  {
   "cell_type": "code",
   "execution_count": 47,
   "metadata": {},
   "outputs": [],
   "source": [
    "df.to_csv('Cleaned_NYC_Dog_License.csv', index=False, encoding='utf-8-sig')\n"
   ]
  },
  {
   "cell_type": "code",
   "execution_count": 48,
   "metadata": {},
   "outputs": [
    {
     "data": {
      "text/plain": [
       "546717"
      ]
     },
     "execution_count": 48,
     "metadata": {},
     "output_type": "execute_result"
    }
   ],
   "source": [
    "len(df)"
   ]
  },
  {
   "cell_type": "code",
   "execution_count": null,
   "metadata": {},
   "outputs": [],
   "source": []
  }
 ],
 "metadata": {
  "kernelspec": {
   "display_name": "base",
   "language": "python",
   "name": "python3"
  },
  "language_info": {
   "codemirror_mode": {
    "name": "ipython",
    "version": 3
   },
   "file_extension": ".py",
   "mimetype": "text/x-python",
   "name": "python",
   "nbconvert_exporter": "python",
   "pygments_lexer": "ipython3",
   "version": "3.12.9"
  },
  "orig_nbformat": 4
 },
 "nbformat": 4,
 "nbformat_minor": 2
}
